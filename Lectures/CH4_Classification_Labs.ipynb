{
 "cells": [
  {
   "cell_type": "markdown",
   "id": "0c898322",
   "metadata": {},
   "source": [
    "## 09/30/21 - Lupercio, Daniel"
   ]
  },
  {
   "cell_type": "markdown",
   "id": "2c156872",
   "metadata": {},
   "source": [
    "We will apply our general Statistical Theory Framework in the case when the output variable `Y` is categorical. In this notebok we will consider \n",
    "\n",
    "* Logistic Regression\n",
    "* Linear Discriminant Analysis (LDA)\n",
    "* Quadratic Discriminant Analysis (QDA)\n",
    "* K-nearest neighbor (KNN)"
   ]
  },
  {
   "cell_type": "code",
   "execution_count": 1,
   "id": "0ee23dba",
   "metadata": {},
   "outputs": [],
   "source": [
    "# Load packages we will need\n",
    "import pandas as pd\n",
    "import numpy as np\n",
    "import matplotlib as mpl\n",
    "import matplotlib.pyplot as plt\n",
    "import seaborn as sns\n",
    "\n",
    "import sklearn.linear_model as skl_lm\n",
    "from sklearn.discriminant_analysis import LinearDiscriminantAnalysis\n",
    "from sklearn.discriminant_analysis import QuadraticDiscriminantAnalysis\n",
    "from sklearn.metrics import confusion_matrix, classification_report, accuracy_score\n",
    "from sklearn.metrics import roc_curve, roc_auc_score\n",
    "from sklearn import preprocessing\n",
    "from sklearn import neighbors\n",
    "\n",
    "import statsmodels.api as sm\n",
    "import statsmodels.formula.api as smf\n",
    "\n",
    "%matplotlib inline\n",
    "plt.style.use('seaborn-white')"
   ]
  },
  {
   "cell_type": "code",
   "execution_count": 2,
   "id": "a0156b39",
   "metadata": {},
   "outputs": [],
   "source": [
    "# Confusion matrix\n",
    "\n",
    "def plot_cm(labels, predictions, p=0.5):\n",
    "    \n",
    "    cm = confusion_matrix(labels, predictions > p)\n",
    "    plt.figure(figsize=(5,5))\n",
    "    sns.heatmap(cm, annot=True, fmt=\"d\")\n",
    "    plt.title('Confusion matrix @{:.2f}'.format(p))\n",
    "    plt.ylabel('Actual label')\n",
    "    plt.xlabel('Predicted label')\n",
    "\n",
    "    print('True Negatives: ', cm[0][0])\n",
    "    print('False Positives: ', cm[0][1])\n",
    "    print('False Negatives: ', cm[1][0])\n",
    "    print('True Positives: ', cm[1][1])\n",
    "    print('Total Positive (Actual): ', np.sum(cm[1]))"
   ]
  },
  {
   "cell_type": "code",
   "execution_count": 3,
   "id": "5c8c4d01",
   "metadata": {},
   "outputs": [],
   "source": [
    "# ROC\n",
    "colors = ['r', 'g', 'b', 'c', 'm', 'y', 'k', 'violet', 'orange', 'purple']\n",
    "    \n",
    "def plot_roc(name, labels, predictions, **kwargs):\n",
    "    \n",
    "    #plt.figure(figsize = (6, 6))\n",
    "    plt.style.use('ggplot')\n",
    "    \n",
    "    fp, tp, _ = roc_curve(labels, predictions)\n",
    "\n",
    "    lbl = name + \" AUC: \"+str(round(roc_auc_score(1-labels, 1-predictions.ravel()),3))\n",
    "    plt.plot(100*fp, 100*tp, label=lbl, linewidth=2, **kwargs)\n",
    "    plt.plot(100*fp, 100*fp,'r--');\n",
    "    plt.xlabel('False positives [%]')\n",
    "    plt.ylabel('True positives [%]')\n",
    "    #plt.xlim([-0.5,20])\n",
    "    #plt.ylim([80,100.5])\n",
    "    #plt.grid(True)\n",
    "    \n",
    "    #plt.plot(fpr, tpr, label = \"ROC score: \"+str(round(roc_auc_score(1-y_test, 1-pred_vals[:,1]),3)), color = \"violet\", lw = 3);\n",
    "\n",
    "    ax = plt.gca()\n",
    "    ax.set_aspect('equal')"
   ]
  },
  {
   "cell_type": "code",
   "execution_count": 4,
   "id": "67912da3",
   "metadata": {},
   "outputs": [],
   "source": [
    "import os\n",
    "\n",
    "UP_DIR = \"/Users/daniel421/Desktop/STAT_724/ISLR_data/\"\n",
    "csv_file = os.path.join(UP_DIR, \"Smarket.csv\")\n",
    "smarket = pd.read_csv(csv_file, header = 0, index_col = 0, squeeze = True)"
   ]
  },
  {
   "cell_type": "code",
   "execution_count": 7,
   "id": "2d085acb",
   "metadata": {},
   "outputs": [
    {
     "data": {
      "text/html": [
       "<div>\n",
       "<style scoped>\n",
       "    .dataframe tbody tr th:only-of-type {\n",
       "        vertical-align: middle;\n",
       "    }\n",
       "\n",
       "    .dataframe tbody tr th {\n",
       "        vertical-align: top;\n",
       "    }\n",
       "\n",
       "    .dataframe thead th {\n",
       "        text-align: right;\n",
       "    }\n",
       "</style>\n",
       "<table border=\"1\" class=\"dataframe\">\n",
       "  <thead>\n",
       "    <tr style=\"text-align: right;\">\n",
       "      <th></th>\n",
       "      <th>Year</th>\n",
       "      <th>Lag1</th>\n",
       "      <th>Lag2</th>\n",
       "      <th>Lag3</th>\n",
       "      <th>Lag4</th>\n",
       "      <th>Lag5</th>\n",
       "      <th>Volume</th>\n",
       "      <th>Today</th>\n",
       "      <th>Direction</th>\n",
       "    </tr>\n",
       "  </thead>\n",
       "  <tbody>\n",
       "    <tr>\n",
       "      <th>1</th>\n",
       "      <td>2001</td>\n",
       "      <td>0.381</td>\n",
       "      <td>-0.192</td>\n",
       "      <td>-2.624</td>\n",
       "      <td>-1.055</td>\n",
       "      <td>5.010</td>\n",
       "      <td>1.1913</td>\n",
       "      <td>0.959</td>\n",
       "      <td>Up</td>\n",
       "    </tr>\n",
       "    <tr>\n",
       "      <th>2</th>\n",
       "      <td>2001</td>\n",
       "      <td>0.959</td>\n",
       "      <td>0.381</td>\n",
       "      <td>-0.192</td>\n",
       "      <td>-2.624</td>\n",
       "      <td>-1.055</td>\n",
       "      <td>1.2965</td>\n",
       "      <td>1.032</td>\n",
       "      <td>Up</td>\n",
       "    </tr>\n",
       "    <tr>\n",
       "      <th>3</th>\n",
       "      <td>2001</td>\n",
       "      <td>1.032</td>\n",
       "      <td>0.959</td>\n",
       "      <td>0.381</td>\n",
       "      <td>-0.192</td>\n",
       "      <td>-2.624</td>\n",
       "      <td>1.4112</td>\n",
       "      <td>-0.623</td>\n",
       "      <td>Down</td>\n",
       "    </tr>\n",
       "    <tr>\n",
       "      <th>4</th>\n",
       "      <td>2001</td>\n",
       "      <td>-0.623</td>\n",
       "      <td>1.032</td>\n",
       "      <td>0.959</td>\n",
       "      <td>0.381</td>\n",
       "      <td>-0.192</td>\n",
       "      <td>1.2760</td>\n",
       "      <td>0.614</td>\n",
       "      <td>Up</td>\n",
       "    </tr>\n",
       "    <tr>\n",
       "      <th>5</th>\n",
       "      <td>2001</td>\n",
       "      <td>0.614</td>\n",
       "      <td>-0.623</td>\n",
       "      <td>1.032</td>\n",
       "      <td>0.959</td>\n",
       "      <td>0.381</td>\n",
       "      <td>1.2057</td>\n",
       "      <td>0.213</td>\n",
       "      <td>Up</td>\n",
       "    </tr>\n",
       "  </tbody>\n",
       "</table>\n",
       "</div>"
      ],
      "text/plain": [
       "   Year   Lag1   Lag2   Lag3   Lag4   Lag5  Volume  Today Direction\n",
       "1  2001  0.381 -0.192 -2.624 -1.055  5.010  1.1913  0.959        Up\n",
       "2  2001  0.959  0.381 -0.192 -2.624 -1.055  1.2965  1.032        Up\n",
       "3  2001  1.032  0.959  0.381 -0.192 -2.624  1.4112 -0.623      Down\n",
       "4  2001 -0.623  1.032  0.959  0.381 -0.192  1.2760  0.614        Up\n",
       "5  2001  0.614 -0.623  1.032  0.959  0.381  1.2057  0.213        Up"
      ]
     },
     "execution_count": 7,
     "metadata": {},
     "output_type": "execute_result"
    }
   ],
   "source": [
    "smarket.head()"
   ]
  },
  {
   "cell_type": "markdown",
   "id": "e584fdaa",
   "metadata": {},
   "source": [
    "Let's begin by creating a 0-1 output "
   ]
  },
  {
   "cell_type": "code",
   "execution_count": 8,
   "id": "4ff65918",
   "metadata": {},
   "outputs": [],
   "source": [
    "smarket[\"Direction2\"] = smarket.Direction.map({'Up':1,\n",
    "                                              'Down':0})"
   ]
  },
  {
   "cell_type": "code",
   "execution_count": 9,
   "id": "ae6c266e",
   "metadata": {},
   "outputs": [
    {
     "data": {
      "text/html": [
       "<div>\n",
       "<style scoped>\n",
       "    .dataframe tbody tr th:only-of-type {\n",
       "        vertical-align: middle;\n",
       "    }\n",
       "\n",
       "    .dataframe tbody tr th {\n",
       "        vertical-align: top;\n",
       "    }\n",
       "\n",
       "    .dataframe thead th {\n",
       "        text-align: right;\n",
       "    }\n",
       "</style>\n",
       "<table border=\"1\" class=\"dataframe\">\n",
       "  <thead>\n",
       "    <tr style=\"text-align: right;\">\n",
       "      <th></th>\n",
       "      <th>Year</th>\n",
       "      <th>Lag1</th>\n",
       "      <th>Lag2</th>\n",
       "      <th>Lag3</th>\n",
       "      <th>Lag4</th>\n",
       "      <th>Lag5</th>\n",
       "      <th>Volume</th>\n",
       "      <th>Today</th>\n",
       "      <th>Direction</th>\n",
       "      <th>Direction2</th>\n",
       "    </tr>\n",
       "  </thead>\n",
       "  <tbody>\n",
       "    <tr>\n",
       "      <th>1</th>\n",
       "      <td>2001</td>\n",
       "      <td>0.381</td>\n",
       "      <td>-0.192</td>\n",
       "      <td>-2.624</td>\n",
       "      <td>-1.055</td>\n",
       "      <td>5.010</td>\n",
       "      <td>1.1913</td>\n",
       "      <td>0.959</td>\n",
       "      <td>Up</td>\n",
       "      <td>1</td>\n",
       "    </tr>\n",
       "    <tr>\n",
       "      <th>2</th>\n",
       "      <td>2001</td>\n",
       "      <td>0.959</td>\n",
       "      <td>0.381</td>\n",
       "      <td>-0.192</td>\n",
       "      <td>-2.624</td>\n",
       "      <td>-1.055</td>\n",
       "      <td>1.2965</td>\n",
       "      <td>1.032</td>\n",
       "      <td>Up</td>\n",
       "      <td>1</td>\n",
       "    </tr>\n",
       "    <tr>\n",
       "      <th>3</th>\n",
       "      <td>2001</td>\n",
       "      <td>1.032</td>\n",
       "      <td>0.959</td>\n",
       "      <td>0.381</td>\n",
       "      <td>-0.192</td>\n",
       "      <td>-2.624</td>\n",
       "      <td>1.4112</td>\n",
       "      <td>-0.623</td>\n",
       "      <td>Down</td>\n",
       "      <td>0</td>\n",
       "    </tr>\n",
       "    <tr>\n",
       "      <th>4</th>\n",
       "      <td>2001</td>\n",
       "      <td>-0.623</td>\n",
       "      <td>1.032</td>\n",
       "      <td>0.959</td>\n",
       "      <td>0.381</td>\n",
       "      <td>-0.192</td>\n",
       "      <td>1.2760</td>\n",
       "      <td>0.614</td>\n",
       "      <td>Up</td>\n",
       "      <td>1</td>\n",
       "    </tr>\n",
       "    <tr>\n",
       "      <th>5</th>\n",
       "      <td>2001</td>\n",
       "      <td>0.614</td>\n",
       "      <td>-0.623</td>\n",
       "      <td>1.032</td>\n",
       "      <td>0.959</td>\n",
       "      <td>0.381</td>\n",
       "      <td>1.2057</td>\n",
       "      <td>0.213</td>\n",
       "      <td>Up</td>\n",
       "      <td>1</td>\n",
       "    </tr>\n",
       "  </tbody>\n",
       "</table>\n",
       "</div>"
      ],
      "text/plain": [
       "   Year   Lag1   Lag2   Lag3   Lag4   Lag5  Volume  Today Direction  \\\n",
       "1  2001  0.381 -0.192 -2.624 -1.055  5.010  1.1913  0.959        Up   \n",
       "2  2001  0.959  0.381 -0.192 -2.624 -1.055  1.2965  1.032        Up   \n",
       "3  2001  1.032  0.959  0.381 -0.192 -2.624  1.4112 -0.623      Down   \n",
       "4  2001 -0.623  1.032  0.959  0.381 -0.192  1.2760  0.614        Up   \n",
       "5  2001  0.614 -0.623  1.032  0.959  0.381  1.2057  0.213        Up   \n",
       "\n",
       "   Direction2  \n",
       "1           1  \n",
       "2           1  \n",
       "3           0  \n",
       "4           1  \n",
       "5           1  "
      ]
     },
     "execution_count": 9,
     "metadata": {},
     "output_type": "execute_result"
    }
   ],
   "source": [
    "smarket.head()"
   ]
  },
  {
   "cell_type": "markdown",
   "id": "4f841d5f",
   "metadata": {},
   "source": [
    "We now split the data into a training and testing portion. Train:(before 2005), Test:(on or after 2005)"
   ]
  },
  {
   "cell_type": "code",
   "execution_count": 10,
   "id": "da70c423",
   "metadata": {},
   "outputs": [],
   "source": [
    "smarket_train = smarket[smarket['Year'] < 2005]\n",
    "smarket_test = smarket[smarket['Year'] >= 2005]"
   ]
  },
  {
   "cell_type": "code",
   "execution_count": 11,
   "id": "76ca0366",
   "metadata": {},
   "outputs": [
    {
     "name": "stdout",
     "output_type": "stream",
     "text": [
      "train size: 998 & test size 252\n"
     ]
    }
   ],
   "source": [
    "print('train size: {0} & test size {1}'.format(smarket_train.shape[0], smarket_test.shape[0]))"
   ]
  },
  {
   "cell_type": "markdown",
   "id": "3009ea98",
   "metadata": {},
   "source": [
    "#### 4.6.1 The Stock Market Data\n",
    "We will be examining the Smarket data set for this lab. It contains a number of numeric variables plus a variable called Direction which has the two labels \"Up\" and \"Down\". \n",
    "\n",
    "The Smarket data, which is part of the ISLR library, consists of percentage returns for the S&P 500 stock index **over 1,250 days**, from the beginning of 2001 until the end of 2005. \n",
    "\n",
    "For each date, we have recorded the percentage returns for each of the five previous trading days, Lag1 through Lag5. We have also recorded **Volume** (the number of shares traded on the previous day, in billions), **Today** (the percentage return on the date in question) and **Direction** (whether the market was Up or Down on this date)."
   ]
  },
  {
   "cell_type": "code",
   "execution_count": null,
   "id": "50e6d60c",
   "metadata": {},
   "outputs": [],
   "source": []
  },
  {
   "cell_type": "code",
   "execution_count": null,
   "id": "8007df81",
   "metadata": {},
   "outputs": [],
   "source": []
  }
 ],
 "metadata": {
  "kernelspec": {
   "display_name": "Python 3 (ipykernel)",
   "language": "python",
   "name": "python3"
  },
  "language_info": {
   "codemirror_mode": {
    "name": "ipython",
    "version": 3
   },
   "file_extension": ".py",
   "mimetype": "text/x-python",
   "name": "python",
   "nbconvert_exporter": "python",
   "pygments_lexer": "ipython3",
   "version": "3.8.5"
  }
 },
 "nbformat": 4,
 "nbformat_minor": 5
}
