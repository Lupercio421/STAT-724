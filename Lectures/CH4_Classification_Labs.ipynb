{
 "cells": [
  {
   "cell_type": "markdown",
   "id": "0c898322",
   "metadata": {},
   "source": [
    "## 09/30/21 - Lupercio, Daniel"
   ]
  },
  {
   "cell_type": "markdown",
   "id": "2c156872",
   "metadata": {},
   "source": [
    "We will apply our general Statistical Theory Framework in the case when the output variable `Y` is categorical. In this notebok we will consider \n",
    "\n",
    "* Logistic Regression\n",
    "* Linear Discriminant Analysis (LDA)\n",
    "* Quadratic Discriminant Analysis (QDA)\n",
    "* K-nearest neighbor (KNN)"
   ]
  },
  {
   "cell_type": "code",
   "execution_count": 1,
   "id": "0ee23dba",
   "metadata": {},
   "outputs": [],
   "source": [
    "# Load packages we will need\n",
    "import pandas as pd\n",
    "import numpy as np\n",
    "import matplotlib as mpl\n",
    "import matplotlib.pyplot as plt\n",
    "import seaborn as sns\n",
    "\n",
    "import sklearn.linear_model as skl_lm\n",
    "from sklearn.discriminant_analysis import LinearDiscriminantAnalysis\n",
    "from sklearn.discriminant_analysis import QuadraticDiscriminantAnalysis\n",
    "from sklearn.metrics import confusion_matrix, classification_report, accuracy_score\n",
    "from sklearn.metrics import roc_curve, roc_auc_score\n",
    "from sklearn import preprocessing\n",
    "from sklearn import neighbors\n",
    "\n",
    "import statsmodels.api as sm\n",
    "import statsmodels.formula.api as smf\n",
    "\n",
    "%matplotlib inline\n",
    "plt.style.use('seaborn-white')"
   ]
  },
  {
   "cell_type": "code",
   "execution_count": 2,
   "id": "a0156b39",
   "metadata": {},
   "outputs": [],
   "source": [
    "# Confusion matrix\n",
    "\n",
    "def plot_cm(labels, predictions, p=0.5):\n",
    "    \n",
    "    cm = confusion_matrix(labels, predictions > p)\n",
    "    plt.figure(figsize=(5,5))\n",
    "    sns.heatmap(cm, annot=True, fmt=\"d\")\n",
    "    plt.title('Confusion matrix @{:.2f}'.format(p))\n",
    "    plt.ylabel('Actual label')\n",
    "    plt.xlabel('Predicted label')\n",
    "\n",
    "    print('True Negatives: ', cm[0][0])\n",
    "    print('False Positives: ', cm[0][1])\n",
    "    print('False Negatives: ', cm[1][0])\n",
    "    print('True Positives: ', cm[1][1])\n",
    "    print('Total Positive (Actual): ', np.sum(cm[1]))"
   ]
  },
  {
   "cell_type": "code",
   "execution_count": 3,
   "id": "5c8c4d01",
   "metadata": {},
   "outputs": [],
   "source": [
    "# ROC\n",
    "colors = ['r', 'g', 'b', 'c', 'm', 'y', 'k', 'violet', 'orange', 'purple']\n",
    "    \n",
    "def plot_roc(name, labels, predictions, **kwargs):\n",
    "    \n",
    "    #plt.figure(figsize = (6, 6))\n",
    "    plt.style.use('ggplot')\n",
    "    \n",
    "    fp, tp, _ = roc_curve(labels, predictions)\n",
    "\n",
    "    lbl = name + \" AUC: \"+str(round(roc_auc_score(1-labels, 1-predictions.ravel()),3))\n",
    "    plt.plot(100*fp, 100*tp, label=lbl, linewidth=2, **kwargs)\n",
    "    plt.plot(100*fp, 100*fp,'r--');\n",
    "    plt.xlabel('False positives [%]')\n",
    "    plt.ylabel('True positives [%]')\n",
    "    #plt.xlim([-0.5,20])\n",
    "    #plt.ylim([80,100.5])\n",
    "    #plt.grid(True)\n",
    "    \n",
    "    #plt.plot(fpr, tpr, label = \"ROC score: \"+str(round(roc_auc_score(1-y_test, 1-pred_vals[:,1]),3)), color = \"violet\", lw = 3);\n",
    "\n",
    "    ax = plt.gca()\n",
    "    ax.set_aspect('equal')"
   ]
  },
  {
   "cell_type": "code",
   "execution_count": 4,
   "id": "67912da3",
   "metadata": {},
   "outputs": [],
   "source": [
    "import os\n",
    "\n",
    "UP_DIR = \"/Users/daniel421/Desktop/STAT_724/ISLR_data/\"\n",
    "csv_file = os.path.join(UP_DIR, \"Smarket.csv\")\n",
    "smarket = pd.read_csv(csv_file, header = 0, index_col = 0, squeeze = True)"
   ]
  },
  {
   "cell_type": "code",
   "execution_count": 5,
   "id": "2d085acb",
   "metadata": {},
   "outputs": [
    {
     "data": {
      "text/html": [
       "<div>\n",
       "<style scoped>\n",
       "    .dataframe tbody tr th:only-of-type {\n",
       "        vertical-align: middle;\n",
       "    }\n",
       "\n",
       "    .dataframe tbody tr th {\n",
       "        vertical-align: top;\n",
       "    }\n",
       "\n",
       "    .dataframe thead th {\n",
       "        text-align: right;\n",
       "    }\n",
       "</style>\n",
       "<table border=\"1\" class=\"dataframe\">\n",
       "  <thead>\n",
       "    <tr style=\"text-align: right;\">\n",
       "      <th></th>\n",
       "      <th>Year</th>\n",
       "      <th>Lag1</th>\n",
       "      <th>Lag2</th>\n",
       "      <th>Lag3</th>\n",
       "      <th>Lag4</th>\n",
       "      <th>Lag5</th>\n",
       "      <th>Volume</th>\n",
       "      <th>Today</th>\n",
       "      <th>Direction</th>\n",
       "    </tr>\n",
       "  </thead>\n",
       "  <tbody>\n",
       "    <tr>\n",
       "      <th>1</th>\n",
       "      <td>2001</td>\n",
       "      <td>0.381</td>\n",
       "      <td>-0.192</td>\n",
       "      <td>-2.624</td>\n",
       "      <td>-1.055</td>\n",
       "      <td>5.010</td>\n",
       "      <td>1.1913</td>\n",
       "      <td>0.959</td>\n",
       "      <td>Up</td>\n",
       "    </tr>\n",
       "    <tr>\n",
       "      <th>2</th>\n",
       "      <td>2001</td>\n",
       "      <td>0.959</td>\n",
       "      <td>0.381</td>\n",
       "      <td>-0.192</td>\n",
       "      <td>-2.624</td>\n",
       "      <td>-1.055</td>\n",
       "      <td>1.2965</td>\n",
       "      <td>1.032</td>\n",
       "      <td>Up</td>\n",
       "    </tr>\n",
       "    <tr>\n",
       "      <th>3</th>\n",
       "      <td>2001</td>\n",
       "      <td>1.032</td>\n",
       "      <td>0.959</td>\n",
       "      <td>0.381</td>\n",
       "      <td>-0.192</td>\n",
       "      <td>-2.624</td>\n",
       "      <td>1.4112</td>\n",
       "      <td>-0.623</td>\n",
       "      <td>Down</td>\n",
       "    </tr>\n",
       "    <tr>\n",
       "      <th>4</th>\n",
       "      <td>2001</td>\n",
       "      <td>-0.623</td>\n",
       "      <td>1.032</td>\n",
       "      <td>0.959</td>\n",
       "      <td>0.381</td>\n",
       "      <td>-0.192</td>\n",
       "      <td>1.2760</td>\n",
       "      <td>0.614</td>\n",
       "      <td>Up</td>\n",
       "    </tr>\n",
       "    <tr>\n",
       "      <th>5</th>\n",
       "      <td>2001</td>\n",
       "      <td>0.614</td>\n",
       "      <td>-0.623</td>\n",
       "      <td>1.032</td>\n",
       "      <td>0.959</td>\n",
       "      <td>0.381</td>\n",
       "      <td>1.2057</td>\n",
       "      <td>0.213</td>\n",
       "      <td>Up</td>\n",
       "    </tr>\n",
       "  </tbody>\n",
       "</table>\n",
       "</div>"
      ],
      "text/plain": [
       "   Year   Lag1   Lag2   Lag3   Lag4   Lag5  Volume  Today Direction\n",
       "1  2001  0.381 -0.192 -2.624 -1.055  5.010  1.1913  0.959        Up\n",
       "2  2001  0.959  0.381 -0.192 -2.624 -1.055  1.2965  1.032        Up\n",
       "3  2001  1.032  0.959  0.381 -0.192 -2.624  1.4112 -0.623      Down\n",
       "4  2001 -0.623  1.032  0.959  0.381 -0.192  1.2760  0.614        Up\n",
       "5  2001  0.614 -0.623  1.032  0.959  0.381  1.2057  0.213        Up"
      ]
     },
     "execution_count": 5,
     "metadata": {},
     "output_type": "execute_result"
    }
   ],
   "source": [
    "smarket.head()"
   ]
  },
  {
   "cell_type": "markdown",
   "id": "e584fdaa",
   "metadata": {},
   "source": [
    "Let's begin by creating a 0-1 output "
   ]
  },
  {
   "cell_type": "code",
   "execution_count": 6,
   "id": "4ff65918",
   "metadata": {},
   "outputs": [],
   "source": [
    "smarket[\"Direction2\"] = smarket.Direction.map({'Up':1,\n",
    "                                              'Down':0})"
   ]
  },
  {
   "cell_type": "code",
   "execution_count": 7,
   "id": "ae6c266e",
   "metadata": {},
   "outputs": [
    {
     "data": {
      "text/html": [
       "<div>\n",
       "<style scoped>\n",
       "    .dataframe tbody tr th:only-of-type {\n",
       "        vertical-align: middle;\n",
       "    }\n",
       "\n",
       "    .dataframe tbody tr th {\n",
       "        vertical-align: top;\n",
       "    }\n",
       "\n",
       "    .dataframe thead th {\n",
       "        text-align: right;\n",
       "    }\n",
       "</style>\n",
       "<table border=\"1\" class=\"dataframe\">\n",
       "  <thead>\n",
       "    <tr style=\"text-align: right;\">\n",
       "      <th></th>\n",
       "      <th>Year</th>\n",
       "      <th>Lag1</th>\n",
       "      <th>Lag2</th>\n",
       "      <th>Lag3</th>\n",
       "      <th>Lag4</th>\n",
       "      <th>Lag5</th>\n",
       "      <th>Volume</th>\n",
       "      <th>Today</th>\n",
       "      <th>Direction</th>\n",
       "      <th>Direction2</th>\n",
       "    </tr>\n",
       "  </thead>\n",
       "  <tbody>\n",
       "    <tr>\n",
       "      <th>1</th>\n",
       "      <td>2001</td>\n",
       "      <td>0.381</td>\n",
       "      <td>-0.192</td>\n",
       "      <td>-2.624</td>\n",
       "      <td>-1.055</td>\n",
       "      <td>5.010</td>\n",
       "      <td>1.1913</td>\n",
       "      <td>0.959</td>\n",
       "      <td>Up</td>\n",
       "      <td>1</td>\n",
       "    </tr>\n",
       "    <tr>\n",
       "      <th>2</th>\n",
       "      <td>2001</td>\n",
       "      <td>0.959</td>\n",
       "      <td>0.381</td>\n",
       "      <td>-0.192</td>\n",
       "      <td>-2.624</td>\n",
       "      <td>-1.055</td>\n",
       "      <td>1.2965</td>\n",
       "      <td>1.032</td>\n",
       "      <td>Up</td>\n",
       "      <td>1</td>\n",
       "    </tr>\n",
       "    <tr>\n",
       "      <th>3</th>\n",
       "      <td>2001</td>\n",
       "      <td>1.032</td>\n",
       "      <td>0.959</td>\n",
       "      <td>0.381</td>\n",
       "      <td>-0.192</td>\n",
       "      <td>-2.624</td>\n",
       "      <td>1.4112</td>\n",
       "      <td>-0.623</td>\n",
       "      <td>Down</td>\n",
       "      <td>0</td>\n",
       "    </tr>\n",
       "    <tr>\n",
       "      <th>4</th>\n",
       "      <td>2001</td>\n",
       "      <td>-0.623</td>\n",
       "      <td>1.032</td>\n",
       "      <td>0.959</td>\n",
       "      <td>0.381</td>\n",
       "      <td>-0.192</td>\n",
       "      <td>1.2760</td>\n",
       "      <td>0.614</td>\n",
       "      <td>Up</td>\n",
       "      <td>1</td>\n",
       "    </tr>\n",
       "    <tr>\n",
       "      <th>5</th>\n",
       "      <td>2001</td>\n",
       "      <td>0.614</td>\n",
       "      <td>-0.623</td>\n",
       "      <td>1.032</td>\n",
       "      <td>0.959</td>\n",
       "      <td>0.381</td>\n",
       "      <td>1.2057</td>\n",
       "      <td>0.213</td>\n",
       "      <td>Up</td>\n",
       "      <td>1</td>\n",
       "    </tr>\n",
       "  </tbody>\n",
       "</table>\n",
       "</div>"
      ],
      "text/plain": [
       "   Year   Lag1   Lag2   Lag3   Lag4   Lag5  Volume  Today Direction  \\\n",
       "1  2001  0.381 -0.192 -2.624 -1.055  5.010  1.1913  0.959        Up   \n",
       "2  2001  0.959  0.381 -0.192 -2.624 -1.055  1.2965  1.032        Up   \n",
       "3  2001  1.032  0.959  0.381 -0.192 -2.624  1.4112 -0.623      Down   \n",
       "4  2001 -0.623  1.032  0.959  0.381 -0.192  1.2760  0.614        Up   \n",
       "5  2001  0.614 -0.623  1.032  0.959  0.381  1.2057  0.213        Up   \n",
       "\n",
       "   Direction2  \n",
       "1           1  \n",
       "2           1  \n",
       "3           0  \n",
       "4           1  \n",
       "5           1  "
      ]
     },
     "execution_count": 7,
     "metadata": {},
     "output_type": "execute_result"
    }
   ],
   "source": [
    "smarket.head()"
   ]
  },
  {
   "cell_type": "markdown",
   "id": "4f841d5f",
   "metadata": {},
   "source": [
    "We now split the data into a training and testing portion. Train:(before 2005), Test:(on or after 2005)"
   ]
  },
  {
   "cell_type": "code",
   "execution_count": 8,
   "id": "da70c423",
   "metadata": {},
   "outputs": [],
   "source": [
    "smarket_train = smarket[smarket['Year'] < 2005]\n",
    "smarket_test = smarket[smarket['Year'] >= 2005]"
   ]
  },
  {
   "cell_type": "code",
   "execution_count": 9,
   "id": "76ca0366",
   "metadata": {},
   "outputs": [
    {
     "name": "stdout",
     "output_type": "stream",
     "text": [
      "train size: 998 & test size 252\n"
     ]
    }
   ],
   "source": [
    "print('train size: {0} & test size {1}'.format(smarket_train.shape[0], smarket_test.shape[0]))"
   ]
  },
  {
   "cell_type": "markdown",
   "id": "3009ea98",
   "metadata": {},
   "source": [
    "#### 4.6.1 The Stock Market Data\n",
    "We will be examining the Smarket data set for this lab. It contains a number of numeric variables plus a variable called Direction which has the two labels \"Up\" and \"Down\". \n",
    "\n",
    "The Smarket data, which is part of the ISLR library, consists of percentage returns for the S&P 500 stock index **over 1,250 days**, from the beginning of 2001 until the end of 2005. \n",
    "\n",
    "For each date, we have recorded the percentage returns for each of the five previous trading days, Lag1 through Lag5. We have also recorded **Volume** (the number of shares traded on the previous day, in billions), **Today** (the percentage return on the date in question) and **Direction** (whether the market was Up or Down on this date)."
   ]
  },
  {
   "cell_type": "markdown",
   "id": "c394f126",
   "metadata": {},
   "source": [
    "### Logistic Regression"
   ]
  },
  {
   "cell_type": "markdown",
   "id": "6cdbbfca",
   "metadata": {},
   "source": [
    "Select only Lag1 and Lag2 as predictors"
   ]
  },
  {
   "cell_type": "code",
   "execution_count": 10,
   "id": "148bb3e4",
   "metadata": {},
   "outputs": [],
   "source": [
    "X_train = smarket_train[['Lag1','Lag2']]\n",
    "y_train = smarket_train['Direction2']\n",
    "X_test = smarket_test[['Lag1','Lag2']]\n",
    "y_test = smarket_test['Direction2']"
   ]
  },
  {
   "cell_type": "markdown",
   "id": "05897a95",
   "metadata": {},
   "source": [
    "Fit the model on the train data"
   ]
  },
  {
   "cell_type": "code",
   "execution_count": 14,
   "id": "89bb7ef1",
   "metadata": {},
   "outputs": [
    {
     "name": "stdout",
     "output_type": "stream",
     "text": [
      "LogisticRegression(solver='newton-cg')\n",
      "classes:  [0 1]\n",
      "coefficients:  [[-0.05547007 -0.04436492]]\n",
      "intercept : [0.0322169]\n"
     ]
    }
   ],
   "source": [
    "clf = skl_lm.LogisticRegression(solver='newton-cg')\n",
    "clf.fit(X_train,y_train)\n",
    "print(clf)\n",
    "print('classes: ',clf.classes_)\n",
    "print('coefficients: ',clf.coef_)\n",
    "print('intercept :', clf.intercept_)"
   ]
  },
  {
   "cell_type": "markdown",
   "id": "045d996c",
   "metadata": {},
   "source": [
    "Test the accuracy of the model on the test data - \"look at the refresher\" on metrics at the end"
   ]
  },
  {
   "cell_type": "code",
   "execution_count": 15,
   "id": "3d31c82c",
   "metadata": {},
   "outputs": [
    {
     "data": {
      "text/plain": [
       "(array([1, 1, 1, 1, 1, 1, 1, 1, 1, 1, 1, 0, 1, 1, 1, 1, 1, 0, 1, 1, 0, 0,\n",
       "        0, 1, 0, 0, 1, 1, 1, 0, 0, 1, 1, 1, 1, 1, 1, 0, 0, 1, 1, 1, 1, 0,\n",
       "        0, 1, 1, 1, 1, 1, 1, 1, 1, 1, 1, 1, 1, 1, 1, 1, 0, 0, 1, 1, 0, 0,\n",
       "        0, 1, 1, 1, 1, 1, 1, 1, 0, 1, 0, 0, 1, 1, 1, 1, 1, 0, 1, 0, 0, 1,\n",
       "        1, 1, 1, 1, 1, 0, 0, 0, 0, 1, 1, 1, 1, 1, 0, 1, 1, 0, 1, 1, 1, 1,\n",
       "        1, 1, 1, 1, 1, 1, 0, 1, 1, 1, 1, 1, 1, 0, 0, 1, 1, 0, 1, 1, 0, 0,\n",
       "        0, 1, 1, 1, 1, 1, 0, 1, 1, 1, 1, 0, 0, 1, 1, 0, 0, 1, 1, 1, 1, 1,\n",
       "        1, 1, 1, 1, 1, 1, 1, 1, 1, 1, 1, 1, 1, 1, 0, 0, 1, 0, 0, 1, 1, 1,\n",
       "        1, 1, 1, 0, 1, 1, 1, 1, 1, 1, 1, 1, 0, 0, 1, 1, 1, 1, 1, 1, 1, 1,\n",
       "        1, 0, 0, 1, 0, 1, 1, 0, 0, 1, 1, 0, 0, 1, 0, 0, 1, 1, 1, 1, 0, 0,\n",
       "        1, 1, 1, 0, 0, 0, 0, 0, 1, 1, 1, 1, 0, 0, 1, 1, 1, 1, 1, 1, 0, 0,\n",
       "        1, 1, 1, 1, 1, 0, 1, 1, 1, 1]),\n",
       " 999     0\n",
       " 1000    0\n",
       " 1001    0\n",
       " 1002    1\n",
       " 1003    0\n",
       "        ..\n",
       " 1246    1\n",
       " 1247    0\n",
       " 1248    1\n",
       " 1249    0\n",
       " 1250    0\n",
       " Name: Direction2, Length: 252, dtype: int64)"
      ]
     },
     "execution_count": 15,
     "metadata": {},
     "output_type": "execute_result"
    }
   ],
   "source": [
    "pred = clf.predict(X_test)\n",
    "pred, y_test.T"
   ]
  },
  {
   "cell_type": "code",
   "execution_count": 16,
   "id": "049302a5",
   "metadata": {},
   "outputs": [
    {
     "name": "stdout",
     "output_type": "stream",
     "text": [
      "accuracy: 0.560\n"
     ]
    }
   ],
   "source": [
    "# Find the accuracy of the predictions against the true classes\n",
    "print(\"accuracy: %0.3f\" % accuracy_score(y_test, pred))"
   ]
  },
  {
   "cell_type": "code",
   "execution_count": 17,
   "id": "07c8f3e8",
   "metadata": {},
   "outputs": [
    {
     "name": "stdout",
     "output_type": "stream",
     "text": [
      "\n",
      "Confusion table:\n",
      " True        0    1\n",
      "Predicted         \n",
      "0          35   35\n",
      "1          76  106\n"
     ]
    }
   ],
   "source": [
    "# Show the confusion matrix\n",
    "#print(confusion_matrix(y_test, pred))\n",
    "cm_df = pd.DataFrame(confusion_matrix(y_test, pred).T, index=clf.classes_,columns=clf.classes_)\n",
    "cm_df.index.name = 'Predicted'\n",
    "cm_df.columns.name = 'True'\n",
    "print('\\nConfusion table:\\n', cm_df)"
   ]
  },
  {
   "cell_type": "code",
   "execution_count": 18,
   "id": "57222057",
   "metadata": {},
   "outputs": [
    {
     "name": "stdout",
     "output_type": "stream",
     "text": [
      "\n",
      "               precision    recall  f1-score   support\n",
      "\n",
      "           0       0.50      0.32      0.39       111\n",
      "           1       0.58      0.75      0.66       141\n",
      "\n",
      "    accuracy                           0.56       252\n",
      "   macro avg       0.54      0.53      0.52       252\n",
      "weighted avg       0.55      0.56      0.54       252\n",
      "\n"
     ]
    }
   ],
   "source": [
    "# Additional statistics\n",
    "print('\\n',classification_report(y_test, pred))"
   ]
  },
  {
   "cell_type": "code",
   "execution_count": 19,
   "id": "719990b4",
   "metadata": {},
   "outputs": [
    {
     "name": "stdout",
     "output_type": "stream",
     "text": [
      "True Negatives:  35\n",
      "False Positives:  76\n",
      "False Negatives:  35\n",
      "True Positives:  106\n",
      "Total Positive (Actual):  141\n"
     ]
    },
    {
     "data": {
      "image/png": "[encoded data removed]",
      "text/plain": [
       "<Figure size 360x360 with 2 Axes>"
      ]
     },
     "metadata": {},
     "output_type": "display_data"
    }
   ],
   "source": [
    "plot_cm(y_test, pred)"
   ]
  },
  {
   "cell_type": "code",
   "execution_count": 20,
   "id": "468595a9",
   "metadata": {},
   "outputs": [
    {
     "data": {
      "text/plain": [
       "<matplotlib.legend.Legend at 0x7fb6c7634e50>"
      ]
     },
     "execution_count": 20,
     "metadata": {},
     "output_type": "execute_result"
    },
    {
     "data": {
      "image/png": "[encoded data removed]",
      "text/plain": [
       "<Figure size 432x432 with 1 Axes>"
      ]
     },
     "metadata": {},
     "output_type": "display_data"
    }
   ],
   "source": [
    "plt.figure(figsize = (6, 6))\n",
    "\n",
    "plt.title('Logistic regression')\n",
    "#plot_roc(\"Train\", train_labels, train_predictions_m1, color=colors[2])\n",
    "plot_roc(\"Test\", y_test, pred, color=colors[2]) #, linestyle='--')\n",
    "plt.legend(loc='lower right')"
   ]
  },
  {
   "cell_type": "markdown",
   "id": "1a438af4",
   "metadata": {},
   "source": [
    "### Linear Discriminant Analysis"
   ]
  },
  {
   "cell_type": "markdown",
   "id": "521956ae",
   "metadata": {},
   "source": [
    "Use the same two predictors (Lag1 and Lag2) to forecast up/down market movement but fit an LDA model"
   ]
  },
  {
   "cell_type": "code",
   "execution_count": 22,
   "id": "8641553d",
   "metadata": {},
   "outputs": [
    {
     "name": "stdout",
     "output_type": "stream",
     "text": [
      "[0.49198397 0.50801603]\n",
      "[[ 0.04279022  0.03389409]\n",
      " [-0.03954635 -0.03132544]]\n"
     ]
    }
   ],
   "source": [
    "lda = LinearDiscriminantAnalysis()\n",
    "pred = lda.fit(X_train, y_train).predict(X_test)\n",
    "\n",
    "print(lda.priors_)\n",
    "print(lda.means_)"
   ]
  },
  {
   "cell_type": "code",
   "execution_count": 25,
   "id": "dcd8780a",
   "metadata": {},
   "outputs": [
    {
     "name": "stdout",
     "output_type": "stream",
     "text": [
      "accuracy: 0.560\n",
      "\n",
      "Confusion table:\n",
      " True        0    1\n",
      "Predicted         \n",
      "0          35   35\n",
      "1          76  106\n",
      "\n",
      "               precision    recall  f1-score   support\n",
      "\n",
      "           0       0.50      0.32      0.39       111\n",
      "           1       0.58      0.75      0.66       141\n",
      "\n",
      "    accuracy                           0.56       252\n",
      "   macro avg       0.54      0.53      0.52       252\n",
      "weighted avg       0.55      0.56      0.54       252\n",
      "\n"
     ]
    }
   ],
   "source": [
    "# Find the accuracy of the predictions against the true classes\n",
    "print(\"accuracy: %0.3f\" % accuracy_score(y_test, pred))\n",
    "\n",
    "# Show the confusion matrix\n",
    "cm_df = pd.DataFrame(confusion_matrix(y_test, pred).T, index=clf.classes_,columns=clf.classes_)\n",
    "cm_df.index.name = 'Predicted'\n",
    "cm_df.columns.name = 'True'\n",
    "print('\\nConfusion table:\\n', cm_df)\n",
    "\n",
    "# Additional statistics\n",
    "print('\\n',classification_report(y_test, pred))"
   ]
  },
  {
   "cell_type": "code",
   "execution_count": null,
   "id": "394e015e",
   "metadata": {},
   "outputs": [],
   "source": []
  },
  {
   "cell_type": "code",
   "execution_count": null,
   "id": "dac7f12c",
   "metadata": {},
   "outputs": [],
   "source": []
  },
  {
   "cell_type": "code",
   "execution_count": null,
   "id": "98ffc641",
   "metadata": {},
   "outputs": [],
   "source": []
  }
 ],
 "metadata": {
  "kernelspec": {
   "display_name": "Python 3 (ipykernel)",
   "language": "python",
   "name": "python3"
  },
  "language_info": {
   "codemirror_mode": {
    "name": "ipython",
    "version": 3
   },
   "file_extension": ".py",
   "mimetype": "text/x-python",
   "name": "python",
   "nbconvert_exporter": "python",
   "pygments_lexer": "ipython3",
   "version": "3.8.5"
  }
 },
 "nbformat": 4,
 "nbformat_minor": 5
}
