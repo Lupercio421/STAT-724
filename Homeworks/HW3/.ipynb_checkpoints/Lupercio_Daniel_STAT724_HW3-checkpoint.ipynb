{
 "cells": [
  {
   "cell_type": "markdown",
   "id": "e94e9ff7",
   "metadata": {},
   "source": [
    "## Daniel Lupercio HW3"
   ]
  },
  {
   "cell_type": "markdown",
   "id": "e1899b27",
   "metadata": {},
   "source": [
    "### 8. We will now perform cross-validation on a simulated data set."
   ]
  },
  {
   "cell_type": "markdown",
   "id": "d26440dc",
   "metadata": {},
   "source": [
    "### (a) Generate a simulated data set"
   ]
  },
  {
   "cell_type": "code",
   "execution_count": 1,
   "id": "4ea1db55",
   "metadata": {},
   "outputs": [],
   "source": [
    "import numpy as np\n",
    "import pandas as pd\n",
    "import math\n",
    "import matplotlib.pyplot as plt\n",
    "from sklearn.model_selection import LeaveOneOut  # To use cross-validation in (c); only available after scikit v0.17.1\n",
    "from sklearn.linear_model import LinearRegression\n",
    "from sklearn.preprocessing import PolynomialFeatures\n",
    "from sklearn.metrics import mean_squared_error\n",
    "import statsmodels.api as sm  # To fit models using least squares\n",
    "from sklearn.pipeline import Pipeline #used for part c\n",
    "import warnings"
   ]
  },
  {
   "cell_type": "code",
   "execution_count": 2,
   "id": "55f0accb",
   "metadata": {},
   "outputs": [],
   "source": [
    "np.random.seed(1)\n",
    "mu, sigma = 0, 0.1 # mean and standard deviation\n",
    "x = np.random.normal(size = 100)\n",
    "y = np.random.normal(size = 100)\n",
    "epsilon = np.random.normal(size = 100)"
   ]
  },
  {
   "cell_type": "code",
   "execution_count": 3,
   "id": "b1f74194",
   "metadata": {},
   "outputs": [],
   "source": [
    "y = x - 2 * x**2 + epsilon"
   ]
  },
  {
   "cell_type": "markdown",
   "id": "da9bbf08",
   "metadata": {},
   "source": [
    "### In this data set, what is $n$ and what is $p$? Write out the model used to generate the data in equation form."
   ]
  },
  {
   "cell_type": "markdown",
   "id": "d476a709",
   "metadata": {},
   "source": [
    "n is the number of observations, where n = 100. p is the number of parameters or variables used, here we are using two parameters."
   ]
  },
  {
   "cell_type": "markdown",
   "id": "69415ed5",
   "metadata": {},
   "source": [
    "$$\n",
    "Y = X-2X^2+ \\epsilon\n",
    "$$"
   ]
  },
  {
   "cell_type": "code",
   "execution_count": 4,
   "id": "103ada8e",
   "metadata": {
    "scrolled": false
   },
   "outputs": [
    {
     "data": {
      "image/png": "[encoded data removed]",
      "text/plain": [
       "<Figure size 432x288 with 1 Axes>"
      ]
     },
     "metadata": {
      "needs_background": "light"
     },
     "output_type": "display_data"
    }
   ],
   "source": [
    "plt.scatter(x,y);"
   ]
  },
  {
   "cell_type": "markdown",
   "id": "99d4c75d",
   "metadata": {},
   "source": [
    "We see a quadration function. The relative maximum of this function is right above 0. The domain of this function ranges from {-4,3}."
   ]
  },
  {
   "cell_type": "markdown",
   "id": "b5fda464",
   "metadata": {},
   "source": [
    "### (c) Set a random seed, and then compute the LOOCV errors that result from fitting the following four models using least squares:\n",
    "\n",
    "$$\n",
    "i. Y = \\beta_0 + \\beta_1X + \\epsilon \\\\\n",
    "ii. Y = \\beta_0 + \\beta_1X + \\beta_2X^2 + \\epsilon \\\\\n",
    "iii. Y = \\beta_0 + \\beta_1X + \\beta_2X^2 + \\beta_3X^3 + \\epsilon \\\\\n",
    "iv. Y = \\beta_0 + \\beta_1X + \\beta_2X^2 + \\beta_3X^3 + \\beta_4X^4 + \\epsilon\n",
    "$$\n",
    "\n",
    "### Note you may find it helpful to use the $data.frame()$ function to create a single data set containing both X and Y. "
   ]
  },
  {
   "cell_type": "code",
   "execution_count": 10,
   "id": "acfae417",
   "metadata": {},
   "outputs": [],
   "source": [
    "np.random.seed(5)"
   ]
  },
  {
   "cell_type": "code",
   "execution_count": 11,
   "id": "158e3bcb",
   "metadata": {},
   "outputs": [],
   "source": [
    "#We will initialize an empty LOOCV object\n",
    "loo = LeaveOneOut()"
   ]
  },
  {
   "cell_type": "markdown",
   "id": "f754e75b",
   "metadata": {},
   "source": [
    "We will create a dataframe, making our x and y values easier to handle"
   ]
  },
  {
   "cell_type": "code",
   "execution_count": 12,
   "id": "c09e3502",
   "metadata": {},
   "outputs": [],
   "source": [
    "df = pd.DataFrame({'x':x, 'y':y})"
   ]
  },
  {
   "cell_type": "code",
   "execution_count": 13,
   "id": "139d6b83",
   "metadata": {},
   "outputs": [
    {
     "data": {
      "text/html": [
       "<div>\n",
       "<style scoped>\n",
       "    .dataframe tbody tr th:only-of-type {\n",
       "        vertical-align: middle;\n",
       "    }\n",
       "\n",
       "    .dataframe tbody tr th {\n",
       "        vertical-align: top;\n",
       "    }\n",
       "\n",
       "    .dataframe thead th {\n",
       "        text-align: right;\n",
       "    }\n",
       "</style>\n",
       "<table border=\"1\" class=\"dataframe\">\n",
       "  <thead>\n",
       "    <tr style=\"text-align: right;\">\n",
       "      <th></th>\n",
       "      <th>x</th>\n",
       "      <th>y</th>\n",
       "    </tr>\n",
       "  </thead>\n",
       "  <tbody>\n",
       "    <tr>\n",
       "      <th>0</th>\n",
       "      <td>1.624345</td>\n",
       "      <td>-4.053529</td>\n",
       "    </tr>\n",
       "    <tr>\n",
       "      <th>1</th>\n",
       "      <td>-0.611756</td>\n",
       "      <td>-0.536243</td>\n",
       "    </tr>\n",
       "    <tr>\n",
       "      <th>2</th>\n",
       "      <td>-0.528172</td>\n",
       "      <td>-1.648408</td>\n",
       "    </tr>\n",
       "    <tr>\n",
       "      <th>3</th>\n",
       "      <td>-1.072969</td>\n",
       "      <td>-1.420614</td>\n",
       "    </tr>\n",
       "    <tr>\n",
       "      <th>4</th>\n",
       "      <td>0.865408</td>\n",
       "      <td>-1.964405</td>\n",
       "    </tr>\n",
       "  </tbody>\n",
       "</table>\n",
       "</div>"
      ],
      "text/plain": [
       "          x         y\n",
       "0  1.624345 -4.053529\n",
       "1 -0.611756 -0.536243\n",
       "2 -0.528172 -1.648408\n",
       "3 -1.072969 -1.420614\n",
       "4  0.865408 -1.964405"
      ]
     },
     "execution_count": 13,
     "metadata": {},
     "output_type": "execute_result"
    }
   ],
   "source": [
    "df.head()"
   ]
  },
  {
   "cell_type": "markdown",
   "id": "6e52599f",
   "metadata": {},
   "source": [
    "We will use a pipeline to finish this exercise. Notice that the minimum degree of our equations is 1. Our maximum degree is 4. Using Python syntax, we will need to set the maximum degree = 5, allowing our iterations to work."
   ]
  },
  {
   "cell_type": "code",
   "execution_count": 14,
   "id": "623fa0a0",
   "metadata": {},
   "outputs": [
    {
     "name": "stdout",
     "output_type": "stream",
     "text": [
      "Model 1, (MSE): 9.697357\n",
      "Model 2, (MSE): 9.697357\n",
      "Model 3, (MSE): 9.697357\n",
      "Model 4, (MSE): 9.697357\n"
     ]
    }
   ],
   "source": [
    "warnings.filterwarnings('ignore')\n",
    "# Initiate variables\n",
    "min_deg = 1  # Minimum degree of the polynomial equations considered\n",
    "max_deg = 5  # Maximum degree of the polynomial equations considered\n",
    "scores = [] # Will use to concatenate the MSE scores into a list\n",
    "\n",
    "# Compute mean squared error (MSE) for the different polynomial equations.\n",
    "for i in range(min_deg, max_deg):\n",
    "    for train, test in loo.split(df): #LOOCV, expect to return 4 splits, one for each model\n",
    "        X_train = df['x'][train]\n",
    "        y_train = df['x'][train]\n",
    "        X_test = df['x'][test]\n",
    "        y_test = df['y'][test]\n",
    "        \n",
    "        #Create our pipeline\n",
    "        model = Pipeline([('poly', PolynomialFeatures(degree = i)), \n",
    "                    ('linear', LinearRegression())])\n",
    "        model.fit(X_train[:, np.newaxis], y_train) #increase the column dimension of X_train by 1\n",
    "        \n",
    "        # perhaps np.newaxis is deprecated\n",
    "        \n",
    "        \n",
    "        #MSE\n",
    "        score = mean_squared_error(y_test, model.predict(X_test[:, np.newaxis]))\n",
    "        scores.append(score)\n",
    "        \n",
    "    print(\"Model %i, (MSE): %f\" % (i,np.mean(scores)))\n",
    "    scores = []"
   ]
  },
  {
   "cell_type": "code",
   "execution_count": null,
   "id": "09fc5033",
   "metadata": {},
   "outputs": [],
   "source": []
  },
  {
   "cell_type": "markdown",
   "id": "e182dba1",
   "metadata": {},
   "source": [
    "f) use statsmodels and print the p-values for the significance of the coefficients"
   ]
  }
 ],
 "metadata": {
  "kernelspec": {
   "display_name": "Python 3 (ipykernel)",
   "language": "python",
   "name": "python3"
  },
  "language_info": {
   "codemirror_mode": {
    "name": "ipython",
    "version": 3
   },
   "file_extension": ".py",
   "mimetype": "text/x-python",
   "name": "python",
   "nbconvert_exporter": "python",
   "pygments_lexer": "ipython3",
   "version": "3.8.5"
  }
 },
 "nbformat": 4,
 "nbformat_minor": 5
}
