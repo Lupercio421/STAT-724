{
 "cells": [
  {
   "cell_type": "markdown",
   "id": "58d256e7",
   "metadata": {},
   "source": [
    "## Daniel Lupercio HW3"
   ]
  },
  {
   "cell_type": "markdown",
   "id": "98b9cf70",
   "metadata": {},
   "source": [
    "### 8. We will now perform cross-validation on a simulated data set."
   ]
  },
  {
   "cell_type": "markdown",
   "id": "4c0af995",
   "metadata": {},
   "source": [
    "### (a) Generate a simulated data set as follows"
   ]
  },
  {
   "cell_type": "code",
   "execution_count": 7,
   "id": "0f19b40e",
   "metadata": {},
   "outputs": [],
   "source": [
    "import pandas as pd\n",
    "import seaborn as sns\n",
    "import matplotlib.pyplot as plt\n",
    "import numpy as np\n",
    "import statsmodels.api as sm\n",
    "import warnings"
   ]
  },
  {
   "cell_type": "code",
   "execution_count": 2,
   "id": "3e0e7461",
   "metadata": {},
   "outputs": [],
   "source": [
    "np.random.seed(1)\n",
    "x = np.random.normal(loc=0, scale=1, size=100)\n",
    "y = x - 2*(x**2) + np.random.normal(loc=0, scale=1, size=100)"
   ]
  },
  {
   "cell_type": "markdown",
   "id": "e67e06c6",
   "metadata": {},
   "source": [
    "### In this data set, what is $n$ and what is $p$? Write out the model used to generate the data in equation form."
   ]
  },
  {
   "cell_type": "markdown",
   "id": "94ad4c0f",
   "metadata": {},
   "source": [
    "n is the number of observations, where n = 100. p is the number of parameters or variables used, here we are using two parameters."
   ]
  },
  {
   "cell_type": "markdown",
   "id": "49ceb63c",
   "metadata": {},
   "source": [
    "$$\n",
    "Y = X-2X^2+ \\epsilon\n",
    "$$"
   ]
  },
  {
   "cell_type": "markdown",
   "id": "37caaa5f",
   "metadata": {},
   "source": [
    "### (b) Create a scatterplot of X against Y. Comment on what you find. "
   ]
  },
  {
   "cell_type": "code",
   "execution_count": 3,
   "id": "7710a49f",
   "metadata": {},
   "outputs": [
    {
     "data": {
      "text/plain": [
       "<AxesSubplot:>"
      ]
     },
     "execution_count": 3,
     "metadata": {},
     "output_type": "execute_result"
    },
    {
     "data": {
      "image/png": "[encoded data removed]",
      "text/plain": [
       "<Figure size 1080x576 with 1 Axes>"
      ]
     },
     "metadata": {
      "needs_background": "light"
     },
     "output_type": "display_data"
    }
   ],
   "source": [
    "fig = plt.figure(figsize=(15, 8))\n",
    "sns.scatterplot(x=x, y=y, color='b')"
   ]
  },
  {
   "cell_type": "markdown",
   "id": "ebe436aa",
   "metadata": {},
   "source": [
    "We see a negative quadratic function. With most of the data points in the domain of (-1.5, 2.5). This function has a range of (-12,3)."
   ]
  },
  {
   "cell_type": "markdown",
   "id": "631c5039",
   "metadata": {},
   "source": [
    "### (c) Set a random seed, and then compute the LOOCV errors that result from fitting the following four models using least squares:\n",
    "\n",
    "$$\n",
    "i. Y = \\beta_0 + \\beta_1X + \\epsilon \\\\\n",
    "ii. Y = \\beta_0 + \\beta_1X + \\beta_2X^2 + \\epsilon \\\\\n",
    "iii. Y = \\beta_0 + \\beta_1X + \\beta_2X^2 + \\beta_3X^3 + \\epsilon \\\\\n",
    "iv. Y = \\beta_0 + \\beta_1X + \\beta_2X^2 + \\beta_3X^3 + \\beta_4X^4 + \\epsilon\n",
    "$$\n",
    "\n",
    "### Note you may find it helpful to use the $data.frame()$ function to create a single data set containing both X and Y. "
   ]
  },
  {
   "cell_type": "code",
   "execution_count": 4,
   "id": "49b40e92",
   "metadata": {},
   "outputs": [
    {
     "name": "stdout",
     "output_type": "stream",
     "text": [
      "MSE for model 1: [6.26076433]\n",
      "MSE for model 2: [0.91428971]\n",
      "MSE for model 3: [0.92687688]\n",
      "MSE for model 4: [0.86691169]\n"
     ]
    }
   ],
   "source": [
    "import random\n",
    "from sklearn.linear_model import LinearRegression\n",
    "\n",
    "def LOOCV(df): #df is defined/redefined for each model\n",
    "    n = len(df)\n",
    "    error = 0.0\n",
    "\n",
    "    for i in range(n):\n",
    "        test = df.iloc[[i]]\n",
    "        train = df.drop(df.index[i])\n",
    "\n",
    "        X_ = train.loc[:, train.columns != 'y'] #each dataframe will have a set number of x columns, and the last y column\n",
    "        y_ = train['y']\n",
    "\n",
    "        model = LinearRegression(fit_intercept=True)\n",
    "        model.fit(X_, y_)\n",
    "\n",
    "        X_ = test.loc[:, df.columns != 'y']\n",
    "        predictions = model.predict(X_)\n",
    "        error += (predictions - test.iloc[0]['y'])**2\n",
    "\n",
    "    return (error/n)\n",
    "\n",
    "random.seed(1) \n",
    "\n",
    "# Model 1\n",
    "df = pd.DataFrame({'x':x, 'y':y})\n",
    "print(\"MSE for model 1: \" +str(LOOCV(df)))\n",
    "\n",
    "# Model 1\n",
    "df = pd.DataFrame({'x':x, 'x2':x**2, 'y':y})\n",
    "print(\"MSE for model 2: \" +str(LOOCV(df)))\n",
    "\n",
    "# Model 3\n",
    "df = pd.DataFrame({'x':x, 'x2':x**2, 'x3':x**3, 'y':y})\n",
    "print(\"MSE for model 3: \" +str(LOOCV(df)))\n",
    "\n",
    "# Model 4\n",
    "df = pd.DataFrame({'x':x, 'x2':x**2, 'x3':x**3, 'x4':x**4, 'y':y})\n",
    "print(\"MSE for model 4: \" +str(LOOCV(df)))\n"
   ]
  },
  {
   "cell_type": "markdown",
   "id": "51bab08f",
   "metadata": {},
   "source": [
    "### (d) Repeat c) using another random seed, and report your results. Are your results the same as in part c)? Why?"
   ]
  },
  {
   "cell_type": "code",
   "execution_count": 5,
   "id": "41ec7800",
   "metadata": {},
   "outputs": [
    {
     "name": "stdout",
     "output_type": "stream",
     "text": [
      "MSE for model 1: [6.26076433]\n",
      "MSE for model 2: [0.91428971]\n",
      "MSE for model 3: [0.92687688]\n",
      "MSE for model 4: [0.86691169]\n"
     ]
    }
   ],
   "source": [
    "random.seed(5)\n",
    "# Model 1\n",
    "df = pd.DataFrame({'x':x, 'y':y})\n",
    "print(\"MSE for model 1: \" +str(LOOCV(df)))\n",
    "\n",
    "# Model 1\n",
    "df = pd.DataFrame({'x':x, 'x2':x**2, 'y':y})\n",
    "print(\"MSE for model 2: \" +str(LOOCV(df)))\n",
    "\n",
    "# Model 3\n",
    "df = pd.DataFrame({'x':x, 'x2':x**2, 'x3':x**3, 'y':y})\n",
    "print(\"MSE for model 3: \" +str(LOOCV(df)))\n",
    "\n",
    "# Model 4\n",
    "df = pd.DataFrame({'x':x, 'x2':x**2, 'x3':x**3, 'x4':x**4, 'y':y})\n",
    "print(\"MSE for model 4: \" +str(LOOCV(df)))\n"
   ]
  },
  {
   "cell_type": "markdown",
   "id": "c5f954a5",
   "metadata": {},
   "source": [
    "Yes, the results are the same as in part c). It apppears that the different random seed had no effect on the results. "
   ]
  },
  {
   "cell_type": "markdown",
   "id": "c12a88f4",
   "metadata": {},
   "source": [
    "### (e) Which of the models in c) had the smallest LOOCV error? Is this what you expected? Explain your answer?"
   ]
  },
  {
   "cell_type": "markdown",
   "id": "10cd94d5",
   "metadata": {},
   "source": [
    "Model 4 has the lowest LOOCV error. I did not expect this, the relationship between x and y is a fourth degree polynomial. Interpreting this model is complex as is. "
   ]
  },
  {
   "cell_type": "markdown",
   "id": "a8767071",
   "metadata": {},
   "source": [
    "### (f) Comment on the statistical significance of the coefficient estimates that results from fitting each of the models in c) using least squares. Do these results agree with the conclusions drawn based on the cross-validation results?"
   ]
  },
  {
   "cell_type": "code",
   "execution_count": 8,
   "id": "022fb2bc",
   "metadata": {
    "scrolled": true
   },
   "outputs": [
    {
     "name": "stdout",
     "output_type": "stream",
     "text": [
      "                            OLS Regression Results                            \n",
      "==============================================================================\n",
      "Dep. Variable:                      y   R-squared:                       0.873\n",
      "Model:                            OLS   Adj. R-squared:                  0.867\n",
      "Method:                 Least Squares   F-statistic:                     163.0\n",
      "Date:                Mon, 25 Oct 2021   Prob (F-statistic):           1.24e-41\n",
      "Time:                        16:19:26   Log-Likelihood:                -130.63\n",
      "No. Observations:                 100   AIC:                             271.3\n",
      "Df Residuals:                      95   BIC:                             284.3\n",
      "Df Model:                           4                                         \n",
      "Covariance Type:            nonrobust                                         \n",
      "==============================================================================\n",
      "                 coef    std err          t      P>|t|      [0.025      0.975]\n",
      "------------------------------------------------------------------------------\n",
      "const          0.3140      0.136      2.311      0.023       0.044       0.584\n",
      "x              0.9127      0.183      4.999      0.000       0.550       1.275\n",
      "x2            -2.5445      0.248    -10.264      0.000      -3.037      -2.052\n",
      "x3             0.0992      0.064      1.556      0.123      -0.027       0.226\n",
      "x4             0.1394      0.057      2.437      0.017       0.026       0.253\n",
      "==============================================================================\n",
      "Omnibus:                        1.537   Durbin-Watson:                   2.100\n",
      "Prob(Omnibus):                  0.464   Jarque-Bera (JB):                1.088\n",
      "Skew:                          -0.238   Prob(JB):                        0.581\n",
      "Kurtosis:                       3.184   Cond. No.                         15.9\n",
      "==============================================================================\n",
      "\n",
      "Notes:\n",
      "[1] Standard Errors assume that the covariance matrix of the errors is correctly specified.\n"
     ]
    }
   ],
   "source": [
    "warnings.filterwarnings('ignore')\n",
    "#begin by using the model that has all the variables\n",
    "df = pd.DataFrame({'x':x, 'x2':x**2, 'x3':x**3, 'x4':x**4, 'y':y})\n",
    "\n",
    "X_ = df.loc[:, df.columns != 'y']\n",
    "X_ = sm.add_constant(X_, prepend=True)\n",
    "y_ = df['y']\n",
    "\n",
    "model = sm.OLS(y_, X_)\n",
    "result = model.fit()\n",
    "print(result.summary())"
   ]
  },
  {
   "cell_type": "markdown",
   "id": "5741751f",
   "metadata": {},
   "source": [
    "Using the fourth model, we are able to see that the cubic term, is statistically insignificant."
   ]
  }
 ],
 "metadata": {
  "kernelspec": {
   "display_name": "Python 3 (ipykernel)",
   "language": "python",
   "name": "python3"
  },
  "language_info": {
   "codemirror_mode": {
    "name": "ipython",
    "version": 3
   },
   "file_extension": ".py",
   "mimetype": "text/x-python",
   "name": "python",
   "nbconvert_exporter": "python",
   "pygments_lexer": "ipython3",
   "version": "3.8.5"
  }
 },
 "nbformat": 4,
 "nbformat_minor": 5
}
