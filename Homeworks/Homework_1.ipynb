{
 "cells": [
  {
   "cell_type": "markdown",
   "id": "d9112b3e",
   "metadata": {},
   "source": [
    "# Daniel lupercio - STAT 724 HW 1"
   ]
  },
  {
   "cell_type": "code",
   "execution_count": 2,
   "id": "84ea3631",
   "metadata": {},
   "outputs": [],
   "source": [
    "# %load ../standard_import.txt\n",
    "import pandas as pd\n",
    "import numpy as np\n",
    "import matplotlib.pyplot as plt\n",
    "from mpl_toolkits.mplot3d import axes3d\n",
    "import seaborn as sns\n",
    "\n",
    "from sklearn.preprocessing import scale\n",
    "import sklearn.linear_model as skl_lm\n",
    "from sklearn.metrics import mean_squared_error, r2_score\n",
    "import statsmodels.api as sm\n",
    "import statsmodels.formula.api as smf\n",
    "\n",
    "%matplotlib inline\n",
    "plt.style.use('seaborn-white')"
   ]
  },
  {
   "cell_type": "markdown",
   "id": "79d2da96",
   "metadata": {},
   "source": [
    "## Chapter 3, Exercise 10"
   ]
  },
  {
   "cell_type": "code",
   "execution_count": 3,
   "id": "fffafd99",
   "metadata": {},
   "outputs": [
    {
     "data": {
      "text/html": [
       "<div>\n",
       "<style scoped>\n",
       "    .dataframe tbody tr th:only-of-type {\n",
       "        vertical-align: middle;\n",
       "    }\n",
       "\n",
       "    .dataframe tbody tr th {\n",
       "        vertical-align: top;\n",
       "    }\n",
       "\n",
       "    .dataframe thead th {\n",
       "        text-align: right;\n",
       "    }\n",
       "</style>\n",
       "<table border=\"1\" class=\"dataframe\">\n",
       "  <thead>\n",
       "    <tr style=\"text-align: right;\">\n",
       "      <th></th>\n",
       "      <th>Unnamed: 0</th>\n",
       "      <th>Sales</th>\n",
       "      <th>CompPrice</th>\n",
       "      <th>Income</th>\n",
       "      <th>Advertising</th>\n",
       "      <th>Population</th>\n",
       "      <th>Price</th>\n",
       "      <th>ShelveLoc</th>\n",
       "      <th>Age</th>\n",
       "      <th>Education</th>\n",
       "      <th>Urban</th>\n",
       "      <th>US</th>\n",
       "    </tr>\n",
       "  </thead>\n",
       "  <tbody>\n",
       "    <tr>\n",
       "      <th>0</th>\n",
       "      <td>1</td>\n",
       "      <td>9.50</td>\n",
       "      <td>138</td>\n",
       "      <td>73</td>\n",
       "      <td>11</td>\n",
       "      <td>276</td>\n",
       "      <td>120</td>\n",
       "      <td>Bad</td>\n",
       "      <td>42</td>\n",
       "      <td>17</td>\n",
       "      <td>Yes</td>\n",
       "      <td>Yes</td>\n",
       "    </tr>\n",
       "    <tr>\n",
       "      <th>1</th>\n",
       "      <td>2</td>\n",
       "      <td>11.22</td>\n",
       "      <td>111</td>\n",
       "      <td>48</td>\n",
       "      <td>16</td>\n",
       "      <td>260</td>\n",
       "      <td>83</td>\n",
       "      <td>Good</td>\n",
       "      <td>65</td>\n",
       "      <td>10</td>\n",
       "      <td>Yes</td>\n",
       "      <td>Yes</td>\n",
       "    </tr>\n",
       "    <tr>\n",
       "      <th>2</th>\n",
       "      <td>3</td>\n",
       "      <td>10.06</td>\n",
       "      <td>113</td>\n",
       "      <td>35</td>\n",
       "      <td>10</td>\n",
       "      <td>269</td>\n",
       "      <td>80</td>\n",
       "      <td>Medium</td>\n",
       "      <td>59</td>\n",
       "      <td>12</td>\n",
       "      <td>Yes</td>\n",
       "      <td>Yes</td>\n",
       "    </tr>\n",
       "    <tr>\n",
       "      <th>3</th>\n",
       "      <td>4</td>\n",
       "      <td>7.40</td>\n",
       "      <td>117</td>\n",
       "      <td>100</td>\n",
       "      <td>4</td>\n",
       "      <td>466</td>\n",
       "      <td>97</td>\n",
       "      <td>Medium</td>\n",
       "      <td>55</td>\n",
       "      <td>14</td>\n",
       "      <td>Yes</td>\n",
       "      <td>Yes</td>\n",
       "    </tr>\n",
       "    <tr>\n",
       "      <th>4</th>\n",
       "      <td>5</td>\n",
       "      <td>4.15</td>\n",
       "      <td>141</td>\n",
       "      <td>64</td>\n",
       "      <td>3</td>\n",
       "      <td>340</td>\n",
       "      <td>128</td>\n",
       "      <td>Bad</td>\n",
       "      <td>38</td>\n",
       "      <td>13</td>\n",
       "      <td>Yes</td>\n",
       "      <td>No</td>\n",
       "    </tr>\n",
       "  </tbody>\n",
       "</table>\n",
       "</div>"
      ],
      "text/plain": [
       "   Unnamed: 0  Sales  CompPrice  Income  Advertising  Population  Price  \\\n",
       "0           1   9.50        138      73           11         276    120   \n",
       "1           2  11.22        111      48           16         260     83   \n",
       "2           3  10.06        113      35           10         269     80   \n",
       "3           4   7.40        117     100            4         466     97   \n",
       "4           5   4.15        141      64            3         340    128   \n",
       "\n",
       "  ShelveLoc  Age  Education Urban   US  \n",
       "0       Bad   42         17   Yes  Yes  \n",
       "1      Good   65         10   Yes  Yes  \n",
       "2    Medium   59         12   Yes  Yes  \n",
       "3    Medium   55         14   Yes  Yes  \n",
       "4       Bad   38         13   Yes   No  "
      ]
     },
     "execution_count": 3,
     "metadata": {},
     "output_type": "execute_result"
    }
   ],
   "source": [
    "import os\n",
    "UP_DIR = '/Users/daniel421/Desktop/STAT_724/ISLR_data'\n",
    "csv_file = os.path.join(UP_DIR,'Carseats.csv')\n",
    "car_seats = pd.read_csv(csv_file)\n",
    "car_seats.head()"
   ]
  },
  {
   "cell_type": "markdown",
   "id": "6d4be3d0",
   "metadata": {},
   "source": [
    "### (a) Fit a multiple regression model to predict ${Sales}$ using $Price$, $Urban$, and $US$."
   ]
  },
  {
   "cell_type": "code",
   "execution_count": 4,
   "id": "7d275af6",
   "metadata": {},
   "outputs": [],
   "source": [
    "model_fit = smf.ols(\"Sales ~ Price + Urban + US\", car_seats).fit()"
   ]
  },
  {
   "cell_type": "markdown",
   "id": "d83c61cd",
   "metadata": {},
   "source": [
    "### (b) Provide an interpretation of each coefficient in the model. Be careful—some of the variables in the model are qualitative!"
   ]
  },
  {
   "cell_type": "code",
   "execution_count": 5,
   "id": "b376f4ef",
   "metadata": {
    "scrolled": false
   },
   "outputs": [
    {
     "data": {
      "text/html": [
       "<table class=\"simpletable\">\n",
       "<tr>\n",
       "        <td></td>          <th>coef</th>     <th>std err</th>      <th>t</th>      <th>P>|t|</th>  <th>[0.025</th>    <th>0.975]</th>  \n",
       "</tr>\n",
       "<tr>\n",
       "  <th>Intercept</th>    <td>   13.0435</td> <td>    0.651</td> <td>   20.036</td> <td> 0.000</td> <td>   11.764</td> <td>   14.323</td>\n",
       "</tr>\n",
       "<tr>\n",
       "  <th>Urban[T.Yes]</th> <td>   -0.0219</td> <td>    0.272</td> <td>   -0.081</td> <td> 0.936</td> <td>   -0.556</td> <td>    0.512</td>\n",
       "</tr>\n",
       "<tr>\n",
       "  <th>US[T.Yes]</th>    <td>    1.2006</td> <td>    0.259</td> <td>    4.635</td> <td> 0.000</td> <td>    0.691</td> <td>    1.710</td>\n",
       "</tr>\n",
       "<tr>\n",
       "  <th>Price</th>        <td>   -0.0545</td> <td>    0.005</td> <td>  -10.389</td> <td> 0.000</td> <td>   -0.065</td> <td>   -0.044</td>\n",
       "</tr>\n",
       "</table>"
      ],
      "text/plain": [
       "<class 'statsmodels.iolib.table.SimpleTable'>"
      ]
     },
     "execution_count": 5,
     "metadata": {},
     "output_type": "execute_result"
    }
   ],
   "source": [
    "model_fit.summary().tables[1]"
   ]
  },
  {
   "cell_type": "markdown",
   "id": "deba1f42",
   "metadata": {},
   "source": [
    "For fixed values of $Urban$ and $US$, a 1-unit increase in $\\textbf{Price}$ results in a change of $Sales$ of -0.0545 units (54 sales)."
   ]
  },
  {
   "cell_type": "markdown",
   "id": "51d13ac3",
   "metadata": {},
   "source": [
    "For fixed values of $Price$ and $Urban$, the effect of the store being located in the $\\textbf{US}$ is a change of $Sales$ of 1.2006 units (1,200 sales). "
   ]
  },
  {
   "cell_type": "markdown",
   "id": "b5ba4910",
   "metadata": {},
   "source": [
    "For fixed values of $Price$ and $US$, the effect of the store being located in an $\\textbf{Urban}$ location is a change of $Sales$ of -.0219 units (decrease of 22 sales)."
   ]
  },
  {
   "cell_type": "markdown",
   "id": "da8d302d",
   "metadata": {},
   "source": [
    "### (c) Write out the model in equation form, being careful to handle the qualitative variables properly."
   ]
  },
  {
   "cell_type": "markdown",
   "id": "f2d202ad",
   "metadata": {},
   "source": [
    "$$\n",
    "\\hat{y} = 13.0435 - 0.0219*Urban + 1.2006*US - 0.0545*Price\n",
    "$$"
   ]
  },
  {
   "cell_type": "markdown",
   "id": "497c7152",
   "metadata": {},
   "source": [
    "- $Urban$ = 1 for a store in an urban location, 0 elsewhere\n",
    "- $US$ = 1 for a store in the US, 0 elsewhere"
   ]
  },
  {
   "cell_type": "markdown",
   "id": "73289fcc",
   "metadata": {},
   "source": [
    "### (d) For which of the predictors can you reject the null hypothesis $H_0 : \\beta_j = 0$?"
   ]
  },
  {
   "cell_type": "markdown",
   "id": "d8aebdaf",
   "metadata": {},
   "source": [
    "\n",
    "<h1><center>$H_0: \\beta_{2,3} = 0$ & $H_A: \\beta_{2,3} \\neq 0$</center></h1>\n"
   ]
  },
  {
   "cell_type": "markdown",
   "id": "9fa3a890",
   "metadata": {},
   "source": [
    "Based on the p-values of $US$ and $Price$, we can reject $H_0: \\beta_{2,3} = 0$"
   ]
  },
  {
   "cell_type": "markdown",
   "id": "04b54d74",
   "metadata": {},
   "source": [
    "### (e) On the basis of your response to the previous question, fit a smaller model that only uses the predictors for which there is evidence of association with the outcome."
   ]
  },
  {
   "cell_type": "code",
   "execution_count": 6,
   "id": "a9f36e87",
   "metadata": {},
   "outputs": [],
   "source": [
    "model_fit2 = smf.ols(\"Sales ~ Price + US\", car_seats).fit()"
   ]
  },
  {
   "cell_type": "code",
   "execution_count": 7,
   "id": "43649f8d",
   "metadata": {},
   "outputs": [
    {
     "data": {
      "text/html": [
       "<table class=\"simpletable\">\n",
       "<caption>OLS Regression Results</caption>\n",
       "<tr>\n",
       "  <th>Dep. Variable:</th>          <td>Sales</td>      <th>  R-squared:         </th> <td>   0.239</td>\n",
       "</tr>\n",
       "<tr>\n",
       "  <th>Model:</th>                   <td>OLS</td>       <th>  Adj. R-squared:    </th> <td>   0.235</td>\n",
       "</tr>\n",
       "<tr>\n",
       "  <th>Method:</th>             <td>Least Squares</td>  <th>  F-statistic:       </th> <td>   62.43</td>\n",
       "</tr>\n",
       "<tr>\n",
       "  <th>Date:</th>             <td>Sat, 25 Sep 2021</td> <th>  Prob (F-statistic):</th> <td>2.66e-24</td>\n",
       "</tr>\n",
       "<tr>\n",
       "  <th>Time:</th>                 <td>13:54:09</td>     <th>  Log-Likelihood:    </th> <td> -927.66</td>\n",
       "</tr>\n",
       "<tr>\n",
       "  <th>No. Observations:</th>      <td>   400</td>      <th>  AIC:               </th> <td>   1861.</td>\n",
       "</tr>\n",
       "<tr>\n",
       "  <th>Df Residuals:</th>          <td>   397</td>      <th>  BIC:               </th> <td>   1873.</td>\n",
       "</tr>\n",
       "<tr>\n",
       "  <th>Df Model:</th>              <td>     2</td>      <th>                     </th>     <td> </td>   \n",
       "</tr>\n",
       "<tr>\n",
       "  <th>Covariance Type:</th>      <td>nonrobust</td>    <th>                     </th>     <td> </td>   \n",
       "</tr>\n",
       "</table>"
      ],
      "text/plain": [
       "<class 'statsmodels.iolib.table.SimpleTable'>"
      ]
     },
     "execution_count": 7,
     "metadata": {},
     "output_type": "execute_result"
    }
   ],
   "source": [
    "model_fit2.summary().tables[0]"
   ]
  },
  {
   "cell_type": "markdown",
   "id": "98ec67e6",
   "metadata": {},
   "source": [
    "### (f) How well do the models in (a) and (e) fit the data?"
   ]
  },
  {
   "cell_type": "markdown",
   "id": "1e5a48c0",
   "metadata": {},
   "source": [
    "$R^2 = 0.239$ and $\\bar{R^2} = 0.234$ for the (a) model <br>\n",
    "$R^2 = 0.239$ and $\\bar{R^2} = 0.235$ for the (e) model"
   ]
  },
  {
   "cell_type": "markdown",
   "id": "2bf890af",
   "metadata": {},
   "source": [
    "Both models can explain approximately 23.9% of the variance in $Sales$. However, the $\\bar{R^2}$ for model (e) has a slight increase. This can be attributed in part, to the removal of the $Urban$ variable. Although we have very limiting information, it would be best to use the model in (e)."
   ]
  },
  {
   "cell_type": "markdown",
   "id": "bc087973",
   "metadata": {},
   "source": [
    "### (g) Using the model from (e), obtain 95% confidence intervals for the coefficient(s)."
   ]
  },
  {
   "cell_type": "code",
   "execution_count": 8,
   "id": "db7a21d6",
   "metadata": {},
   "outputs": [
    {
     "data": {
      "text/html": [
       "<div>\n",
       "<style scoped>\n",
       "    .dataframe tbody tr th:only-of-type {\n",
       "        vertical-align: middle;\n",
       "    }\n",
       "\n",
       "    .dataframe tbody tr th {\n",
       "        vertical-align: top;\n",
       "    }\n",
       "\n",
       "    .dataframe thead th {\n",
       "        text-align: right;\n",
       "    }\n",
       "</style>\n",
       "<table border=\"1\" class=\"dataframe\">\n",
       "  <thead>\n",
       "    <tr style=\"text-align: right;\">\n",
       "      <th></th>\n",
       "      <th>0</th>\n",
       "      <th>1</th>\n",
       "    </tr>\n",
       "  </thead>\n",
       "  <tbody>\n",
       "    <tr>\n",
       "      <th>Intercept</th>\n",
       "      <td>11.79032</td>\n",
       "      <td>14.271265</td>\n",
       "    </tr>\n",
       "    <tr>\n",
       "      <th>US[T.Yes]</th>\n",
       "      <td>0.69152</td>\n",
       "      <td>1.707766</td>\n",
       "    </tr>\n",
       "    <tr>\n",
       "      <th>Price</th>\n",
       "      <td>-0.06476</td>\n",
       "      <td>-0.044195</td>\n",
       "    </tr>\n",
       "  </tbody>\n",
       "</table>\n",
       "</div>"
      ],
      "text/plain": [
       "                  0          1\n",
       "Intercept  11.79032  14.271265\n",
       "US[T.Yes]   0.69152   1.707766\n",
       "Price      -0.06476  -0.044195"
      ]
     },
     "execution_count": 8,
     "metadata": {},
     "output_type": "execute_result"
    }
   ],
   "source": [
    "model_fit2.conf_int(alpha=0.05, cols=None)"
   ]
  },
  {
   "cell_type": "markdown",
   "id": "4e19c479",
   "metadata": {},
   "source": [
    "We can say that there is a 95% probability that, on average, the true parameter for $Price$ ($\\beta_2$) falls within (-0.0648, -0.0442). <br>\n",
    "We can say that there is a 95% probability that, on average, the true parameter for $US$ ($\\beta_1$) falls within (0.692, 1.708)."
   ]
  },
  {
   "cell_type": "markdown",
   "id": "4ea019ba",
   "metadata": {},
   "source": [
    "### (h) Is there evidence of outliers or high leverage observations in the model from (e)?"
   ]
  },
  {
   "cell_type": "code",
   "execution_count": 9,
   "id": "0643cc03",
   "metadata": {},
   "outputs": [
    {
     "data": {
      "image/png": "[encoded data removed]",
      "text/plain": [
       "<Figure size 576x432 with 1 Axes>"
      ]
     },
     "metadata": {},
     "output_type": "display_data"
    }
   ],
   "source": [
    "from statsmodels.graphics.regressionplots import plot_leverage_resid2\n",
    "\n",
    "fig, ax = plt.subplots(figsize=(8, 6))\n",
    "fig = plot_leverage_resid2(model_fit2, ax=ax)"
   ]
  },
  {
   "cell_type": "code",
   "execution_count": 10,
   "id": "f6e6320d",
   "metadata": {},
   "outputs": [],
   "source": [
    "from statsmodels.stats.outliers_influence import OLSInfluence as influence\n",
    "# Compute the influence to get Cook's distance\n",
    "inf = influence(model_fit2)\n",
    "\n",
    "# cooks_distance is an attribute of incluence, here C, not sure about P (p-value maybe?)\n",
    "C, P = inf.cooks_distance"
   ]
  },
  {
   "cell_type": "code",
   "execution_count": 11,
   "id": "33e8e64e",
   "metadata": {
    "scrolled": false
   },
   "outputs": [
    {
     "data": {
      "text/plain": [
       "<AxesSubplot:title={'center':\"Cook's Distance Outlier Detection\"}, xlabel='instance', ylabel='distance'>"
      ]
     },
     "execution_count": 11,
     "metadata": {},
     "output_type": "execute_result"
    },
    {
     "data": {
      "image/png": "[encoded data removed]",
      "text/plain": [
       "<Figure size 648x432 with 1 Axes>"
      ]
     },
     "metadata": {},
     "output_type": "display_data"
    }
   ],
   "source": [
    "def plot_cooks_distance(c):\n",
    "    _, ax = plt.subplots(figsize=(9,6))\n",
    "    ax.stem(c, markerfmt=\",\")\n",
    "    ax.set_xlabel(\"instance\")\n",
    "    ax.set_ylabel(\"distance\")\n",
    "    ax.set_title(\"Cook's Distance Outlier Detection\")\n",
    "    return ax\n",
    "\n",
    "\n",
    "plot_cooks_distance(C)"
   ]
  },
  {
   "cell_type": "markdown",
   "id": "3732fcc9",
   "metadata": {},
   "source": [
    "There are instances of high leverage obserations, however, there is no indication of strong outliers. This is based off of low cook's distances."
   ]
  }
 ],
 "metadata": {
  "interpreter": {
   "hash": "0e42b1d8cddbc26cb61a5a9231439e7d40594b68fea6885552175b870c032d1c"
  },
  "kernelspec": {
   "display_name": "Python 3 (ipykernel)",
   "language": "python",
   "name": "python3"
  },
  "language_info": {
   "codemirror_mode": {
    "name": "ipython",
    "version": 3
   },
   "file_extension": ".py",
   "mimetype": "text/x-python",
   "name": "python",
   "nbconvert_exporter": "python",
   "pygments_lexer": "ipython3",
   "version": "3.8.5"
  }
 },
 "nbformat": 4,
 "nbformat_minor": 5
}
