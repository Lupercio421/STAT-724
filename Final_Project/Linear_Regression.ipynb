{
 "cells": [
  {
   "cell_type": "code",
   "execution_count": 43,
   "metadata": {},
   "outputs": [],
   "source": [
    "# %load ../standard_import.txt\n",
    "import pandas as pd\n",
    "import numpy as np\n",
    "import matplotlib.pyplot as plt\n",
    "import seaborn as sns\n",
    "\n",
    "from sklearn.preprocessing import scale \n",
    "from sklearn import model_selection\n",
    "from sklearn.linear_model import LinearRegression, Ridge, RidgeCV, Lasso, LassoCV\n",
    "from sklearn.model_selection import KFold, cross_val_score, GridSearchCV\n",
    "from sklearn.metrics import mean_squared_error\n",
    "import sklearn.linear_model as skl_lm\n",
    "from sklearn.model_selection import train_test_split, LeaveOneOut, KFold, cross_val_score\n",
    "from sklearn.preprocessing import PolynomialFeatures\n",
    "from sklearn.preprocessing import MinMaxScaler\n",
    "from sklearn.feature_selection import RFE #Feature ranking with recursive feature elimination.\n",
    "from sklearn.impute import SimpleImputer\n",
    "from sklearn.metrics import mean_squared_error, r2_score\n",
    "import statsmodels.api as sm\n",
    "import statsmodels.formula.api as smf\n",
    "\n",
    "\n",
    "import plotly.express as px\n",
    "\n",
    "%matplotlib inline\n",
    "plt.style.use('seaborn-white')"
   ]
  },
  {
   "cell_type": "code",
   "execution_count": 2,
   "metadata": {},
   "outputs": [],
   "source": [
    "PROJECT_ROOT_DIR = \"/Users/daniel421/Desktop/STAT_724/ds_724/Final_Project\"\n",
    "# CHAPTER_ID = \"Lin_regression\"\n",
    "# IMAGES_PATH = os.path.join(PROJECT_ROOT_DIR, \"images\", CHAPTER_ID)\n",
    "# os.makedirs(IMAGES_PATH, exist_ok=True)"
   ]
  },
  {
   "cell_type": "markdown",
   "metadata": {},
   "source": [
    "#### Column indices to potentially drop: 4,5,6 and -1"
   ]
  },
  {
   "cell_type": "code",
   "execution_count": 3,
   "metadata": {},
   "outputs": [],
   "source": [
    "import os\n",
    "#UP_DIR = '/Users/daniel421/Desktop/STAT_724/ISLR_data'\n",
    "csv_file = os.path.join(PROJECT_ROOT_DIR,'listings_6.csv')\n",
    "abnb = pd.read_csv(csv_file, low_memory=False)\n",
    "abnb = pd.DataFrame(data = abnb)\n",
    "abnb = abnb.drop(abnb.columns[[4,5,6,-1]], axis = 1)"
   ]
  },
  {
   "cell_type": "code",
   "execution_count": 4,
   "metadata": {},
   "outputs": [
    {
     "data": {
      "text/plain": [
       "15991"
      ]
     },
     "execution_count": 4,
     "metadata": {},
     "output_type": "execute_result"
    }
   ],
   "source": [
    "len(abnb)"
   ]
  },
  {
   "cell_type": "markdown",
   "metadata": {},
   "source": [
    "Sklearn SimpleImputer"
   ]
  },
  {
   "cell_type": "code",
   "execution_count": 5,
   "metadata": {},
   "outputs": [],
   "source": [
    "abnb.fillna(abnb.mean(), inplace=True)"
   ]
  },
  {
   "cell_type": "code",
   "execution_count": 6,
   "metadata": {},
   "outputs": [],
   "source": [
    "# s_imputer = SimpleImputer(missing_values= np.nan, strategy = 'mean', verbose=0)\n",
    "# s_imputer = s_imputer.fit(abnb[1:,1:])\n",
    "# abnb = s_imputer.transform(abnb)"
   ]
  },
  {
   "cell_type": "code",
   "execution_count": 7,
   "metadata": {},
   "outputs": [
    {
     "name": "stdout",
     "output_type": "stream",
     "text": [
      "Index(['host_response_rate', 'host_acceptance_rate', 'host_listings_count',\n",
      "       'host_total_listings_count', 'accommodates', 'bedrooms', 'beds',\n",
      "       'price', 'minimum_nights', 'maximum_nights', 'minimum_minimum_nights',\n",
      "       'maximum_minimum_nights', 'minimum_maximum_nights',\n",
      "       'maximum_maximum_nights', 'minimum_nights_avg_ntm',\n",
      "       'maximum_nights_avg_ntm', 'availability_30', 'availability_60',\n",
      "       'availability_90', 'availability_365', 'number_of_reviews',\n",
      "       'number_of_reviews_ltm', 'number_of_reviews_l30d',\n",
      "       'review_scores_rating', 'review_scores_accuracy',\n",
      "       'review_scores_cleanliness', 'review_scores_checkin',\n",
      "       'review_scores_communication', 'review_scores_location',\n",
      "       'review_scores_value', 'calculated_host_listings_count',\n",
      "       'calculated_host_listings_count_entire_homes',\n",
      "       'calculated_host_listings_count_private_rooms',\n",
      "       'calculated_host_listings_count_shared_rooms', 'reviews_per_month',\n",
      "       'host_is_superhost2', 'host_identity_verified2', 'has_availability2',\n",
      "       'instant_bookable2', 'dmy_Hotel room', 'dmy_Private room',\n",
      "       'dmy_Shared room'],\n",
      "      dtype='object')\n"
     ]
    }
   ],
   "source": [
    "abnb = pd.DataFrame(data = abnb)\n",
    "print(abnb.columns)"
   ]
  },
  {
   "cell_type": "code",
   "execution_count": 8,
   "metadata": {},
   "outputs": [],
   "source": [
    "# abnb.dtypes"
   ]
  },
  {
   "cell_type": "code",
   "execution_count": 9,
   "metadata": {},
   "outputs": [],
   "source": [
    "# abnb['host_response_rate'] = abnb['host_response_rate'].astype(float, errors = 'raise')\n",
    "# abnb['host_response_rate'] = pd.to_numeric(abnb['host_response_rate'], errors='coerce')\n",
    "# abnb['host_response_rate'] = (abnb['host_response_rate'].str.strip('%').astype(float))\n",
    "# abnb['host_response_rate'] = abnb['host_response_rate']/100\n",
    "# abnb['host_acceptance_rate'] = (abnb['host_acceptance_rate'].str.strip('%').astype(float))\n",
    "# abnb['host_acceptance_rate'] = abnb['host_acceptance_rate']/100\n"
   ]
  },
  {
   "cell_type": "markdown",
   "metadata": {},
   "source": [
    "## Need to scale the dataframe?"
   ]
  },
  {
   "cell_type": "markdown",
   "metadata": {},
   "source": [
    "#### Column indices to potentially drop: 4,5,6 and -1"
   ]
  },
  {
   "cell_type": "code",
   "execution_count": null,
   "metadata": {},
   "outputs": [],
   "source": []
  },
  {
   "cell_type": "code",
   "execution_count": 10,
   "metadata": {},
   "outputs": [
    {
     "data": {
      "text/html": [
       "<div>\n",
       "<style scoped>\n",
       "    .dataframe tbody tr th:only-of-type {\n",
       "        vertical-align: middle;\n",
       "    }\n",
       "\n",
       "    .dataframe tbody tr th {\n",
       "        vertical-align: top;\n",
       "    }\n",
       "\n",
       "    .dataframe thead th {\n",
       "        text-align: right;\n",
       "    }\n",
       "</style>\n",
       "<table border=\"1\" class=\"dataframe\">\n",
       "  <thead>\n",
       "    <tr style=\"text-align: right;\">\n",
       "      <th></th>\n",
       "      <th>host_response_rate</th>\n",
       "      <th>host_acceptance_rate</th>\n",
       "      <th>host_listings_count</th>\n",
       "      <th>host_total_listings_count</th>\n",
       "      <th>accommodates</th>\n",
       "      <th>bedrooms</th>\n",
       "      <th>beds</th>\n",
       "      <th>price</th>\n",
       "      <th>minimum_nights</th>\n",
       "      <th>maximum_nights</th>\n",
       "      <th>...</th>\n",
       "      <th>calculated_host_listings_count_private_rooms</th>\n",
       "      <th>calculated_host_listings_count_shared_rooms</th>\n",
       "      <th>reviews_per_month</th>\n",
       "      <th>host_is_superhost2</th>\n",
       "      <th>host_identity_verified2</th>\n",
       "      <th>has_availability2</th>\n",
       "      <th>instant_bookable2</th>\n",
       "      <th>dmy_Hotel room</th>\n",
       "      <th>dmy_Private room</th>\n",
       "      <th>dmy_Shared room</th>\n",
       "    </tr>\n",
       "  </thead>\n",
       "  <tbody>\n",
       "    <tr>\n",
       "      <th>0</th>\n",
       "      <td>0.35</td>\n",
       "      <td>0.18</td>\n",
       "      <td>0.002549</td>\n",
       "      <td>0.002549</td>\n",
       "      <td>0.0625</td>\n",
       "      <td>0.047935</td>\n",
       "      <td>0.000000</td>\n",
       "      <td>0.015002</td>\n",
       "      <td>0.029029</td>\n",
       "      <td>0.562281</td>\n",
       "      <td>...</td>\n",
       "      <td>0.000000</td>\n",
       "      <td>0.0</td>\n",
       "      <td>0.002353</td>\n",
       "      <td>0.0</td>\n",
       "      <td>1.0</td>\n",
       "      <td>1.0</td>\n",
       "      <td>0.0</td>\n",
       "      <td>0.0</td>\n",
       "      <td>0.0</td>\n",
       "      <td>0.0</td>\n",
       "    </tr>\n",
       "    <tr>\n",
       "      <th>1</th>\n",
       "      <td>0.21</td>\n",
       "      <td>0.76</td>\n",
       "      <td>0.000319</td>\n",
       "      <td>0.000319</td>\n",
       "      <td>0.1875</td>\n",
       "      <td>0.000000</td>\n",
       "      <td>0.117647</td>\n",
       "      <td>0.007301</td>\n",
       "      <td>0.000000</td>\n",
       "      <td>0.364682</td>\n",
       "      <td>...</td>\n",
       "      <td>0.000000</td>\n",
       "      <td>0.0</td>\n",
       "      <td>0.036032</td>\n",
       "      <td>0.0</td>\n",
       "      <td>1.0</td>\n",
       "      <td>1.0</td>\n",
       "      <td>0.0</td>\n",
       "      <td>0.0</td>\n",
       "      <td>0.0</td>\n",
       "      <td>0.0</td>\n",
       "    </tr>\n",
       "    <tr>\n",
       "      <th>2</th>\n",
       "      <td>1.00</td>\n",
       "      <td>1.00</td>\n",
       "      <td>0.000319</td>\n",
       "      <td>0.000319</td>\n",
       "      <td>0.1250</td>\n",
       "      <td>0.000000</td>\n",
       "      <td>0.000000</td>\n",
       "      <td>0.006001</td>\n",
       "      <td>0.029029</td>\n",
       "      <td>0.364682</td>\n",
       "      <td>...</td>\n",
       "      <td>0.006079</td>\n",
       "      <td>0.0</td>\n",
       "      <td>0.003824</td>\n",
       "      <td>0.0</td>\n",
       "      <td>1.0</td>\n",
       "      <td>1.0</td>\n",
       "      <td>0.0</td>\n",
       "      <td>0.0</td>\n",
       "      <td>1.0</td>\n",
       "      <td>0.0</td>\n",
       "    </tr>\n",
       "    <tr>\n",
       "      <th>3</th>\n",
       "      <td>1.00</td>\n",
       "      <td>0.25</td>\n",
       "      <td>0.000319</td>\n",
       "      <td>0.000319</td>\n",
       "      <td>0.2500</td>\n",
       "      <td>0.125000</td>\n",
       "      <td>0.058824</td>\n",
       "      <td>0.027503</td>\n",
       "      <td>0.004004</td>\n",
       "      <td>0.562281</td>\n",
       "      <td>...</td>\n",
       "      <td>0.000000</td>\n",
       "      <td>0.0</td>\n",
       "      <td>0.000074</td>\n",
       "      <td>0.0</td>\n",
       "      <td>1.0</td>\n",
       "      <td>1.0</td>\n",
       "      <td>0.0</td>\n",
       "      <td>0.0</td>\n",
       "      <td>0.0</td>\n",
       "      <td>0.0</td>\n",
       "    </tr>\n",
       "    <tr>\n",
       "      <th>4</th>\n",
       "      <td>1.00</td>\n",
       "      <td>1.00</td>\n",
       "      <td>0.000319</td>\n",
       "      <td>0.000319</td>\n",
       "      <td>0.1250</td>\n",
       "      <td>0.000000</td>\n",
       "      <td>0.000000</td>\n",
       "      <td>0.006801</td>\n",
       "      <td>0.001001</td>\n",
       "      <td>0.006503</td>\n",
       "      <td>...</td>\n",
       "      <td>0.003040</td>\n",
       "      <td>0.0</td>\n",
       "      <td>0.027134</td>\n",
       "      <td>0.0</td>\n",
       "      <td>0.0</td>\n",
       "      <td>1.0</td>\n",
       "      <td>0.0</td>\n",
       "      <td>0.0</td>\n",
       "      <td>1.0</td>\n",
       "      <td>0.0</td>\n",
       "    </tr>\n",
       "  </tbody>\n",
       "</table>\n",
       "<p>5 rows × 42 columns</p>\n",
       "</div>"
      ],
      "text/plain": [
       "   host_response_rate  host_acceptance_rate  host_listings_count  \\\n",
       "0                0.35                  0.18             0.002549   \n",
       "1                0.21                  0.76             0.000319   \n",
       "2                1.00                  1.00             0.000319   \n",
       "3                1.00                  0.25             0.000319   \n",
       "4                1.00                  1.00             0.000319   \n",
       "\n",
       "   host_total_listings_count  accommodates  bedrooms      beds     price  \\\n",
       "0                   0.002549        0.0625  0.047935  0.000000  0.015002   \n",
       "1                   0.000319        0.1875  0.000000  0.117647  0.007301   \n",
       "2                   0.000319        0.1250  0.000000  0.000000  0.006001   \n",
       "3                   0.000319        0.2500  0.125000  0.058824  0.027503   \n",
       "4                   0.000319        0.1250  0.000000  0.000000  0.006801   \n",
       "\n",
       "   minimum_nights  maximum_nights  ...  \\\n",
       "0        0.029029        0.562281  ...   \n",
       "1        0.000000        0.364682  ...   \n",
       "2        0.029029        0.364682  ...   \n",
       "3        0.004004        0.562281  ...   \n",
       "4        0.001001        0.006503  ...   \n",
       "\n",
       "   calculated_host_listings_count_private_rooms  \\\n",
       "0                                      0.000000   \n",
       "1                                      0.000000   \n",
       "2                                      0.006079   \n",
       "3                                      0.000000   \n",
       "4                                      0.003040   \n",
       "\n",
       "   calculated_host_listings_count_shared_rooms  reviews_per_month  \\\n",
       "0                                          0.0           0.002353   \n",
       "1                                          0.0           0.036032   \n",
       "2                                          0.0           0.003824   \n",
       "3                                          0.0           0.000074   \n",
       "4                                          0.0           0.027134   \n",
       "\n",
       "   host_is_superhost2  host_identity_verified2  has_availability2  \\\n",
       "0                 0.0                      1.0                1.0   \n",
       "1                 0.0                      1.0                1.0   \n",
       "2                 0.0                      1.0                1.0   \n",
       "3                 0.0                      1.0                1.0   \n",
       "4                 0.0                      0.0                1.0   \n",
       "\n",
       "   instant_bookable2  dmy_Hotel room  dmy_Private room  dmy_Shared room  \n",
       "0                0.0             0.0               0.0              0.0  \n",
       "1                0.0             0.0               0.0              0.0  \n",
       "2                0.0             0.0               1.0              0.0  \n",
       "3                0.0             0.0               0.0              0.0  \n",
       "4                0.0             0.0               1.0              0.0  \n",
       "\n",
       "[5 rows x 42 columns]"
      ]
     },
     "execution_count": 10,
     "metadata": {},
     "output_type": "execute_result"
    }
   ],
   "source": [
    "# rescaling the variables (both)\n",
    "abnb_columns = abnb.columns\n",
    "scaler = MinMaxScaler()\n",
    "abnb = scaler.fit_transform(abnb)\n",
    "\n",
    "# rename columns (since now its an np array)\n",
    "abnb = pd.DataFrame(abnb)\n",
    "abnb.columns = abnb_columns\n",
    "\n",
    "abnb.head()"
   ]
  },
  {
   "cell_type": "markdown",
   "metadata": {},
   "source": [
    "## Split into train and test"
   ]
  },
  {
   "cell_type": "code",
   "execution_count": null,
   "metadata": {},
   "outputs": [],
   "source": []
  },
  {
   "cell_type": "markdown",
   "metadata": {},
   "source": [
    "creating y_train and y_test, X_train, X_test"
   ]
  },
  {
   "cell_type": "code",
   "execution_count": 11,
   "metadata": {},
   "outputs": [],
   "source": [
    "abnb_train, abnb_test = train_test_split(abnb, train_size = 0.7, test_size = 0.3, random_state = 10)\n",
    "\n",
    "y_train = abnb_train['price']\n",
    "y_test = abnb_test['price']\n",
    "\n",
    "X_train = abnb_train.drop('price', axis = 1)\n",
    "X_test = abnb_test.drop('price', axis = 1)"
   ]
  },
  {
   "cell_type": "code",
   "execution_count": 12,
   "metadata": {},
   "outputs": [],
   "source": [
    "# print(len(X_test))\n",
    "# print(len(y_test))"
   ]
  },
  {
   "cell_type": "code",
   "execution_count": 13,
   "metadata": {},
   "outputs": [
    {
     "name": "stdout",
     "output_type": "stream",
     "text": [
      "11193\n",
      "11193\n"
     ]
    }
   ],
   "source": [
    "print(len(X_train))\n",
    "print(len(y_train))"
   ]
  },
  {
   "cell_type": "code",
   "execution_count": 14,
   "metadata": {},
   "outputs": [
    {
     "data": {
      "text/plain": [
       "True"
      ]
     },
     "execution_count": 14,
     "metadata": {},
     "output_type": "execute_result"
    }
   ],
   "source": [
    "isinstance(abnb_train, pd.DataFrame)"
   ]
  },
  {
   "cell_type": "markdown",
   "metadata": {},
   "source": [
    "## Building a model without cross-validation"
   ]
  },
  {
   "cell_type": "code",
   "execution_count": 15,
   "metadata": {},
   "outputs": [
    {
     "name": "stdout",
     "output_type": "stream",
     "text": [
      "41\n",
      "(11193, 41) (11193,)\n"
     ]
    }
   ],
   "source": [
    "print(len(X_train.columns))\n",
    "print(X_train.shape, y_train.shape)"
   ]
  },
  {
   "cell_type": "code",
   "execution_count": 16,
   "metadata": {},
   "outputs": [],
   "source": [
    "# first model with an arbitrary choice of n_features\n",
    "# running RFE with number of features = 20\n",
    "\n",
    "lm = LinearRegression()\n",
    "lm.fit(X_train, y_train)\n",
    "\n",
    "rfe = RFE(lm, n_features_to_select=20)             \n",
    "rfe = rfe.fit(X_train, y_train)"
   ]
  },
  {
   "cell_type": "code",
   "execution_count": 18,
   "metadata": {},
   "outputs": [
    {
     "name": "stdout",
     "output_type": "stream",
     "text": [
      "RFE(estimator=LinearRegression(), n_features_to_select=20)\n"
     ]
    }
   ],
   "source": [
    "print(rfe)"
   ]
  },
  {
   "cell_type": "code",
   "execution_count": 20,
   "metadata": {},
   "outputs": [
    {
     "data": {
      "text/plain": [
       "[('host_response_rate', False, 12),\n",
       " ('host_acceptance_rate', False, 20),\n",
       " ('host_listings_count', True, 1),\n",
       " ('host_total_listings_count', True, 1),\n",
       " ('accommodates', True, 1),\n",
       " ('bedrooms', True, 1),\n",
       " ('beds', True, 1),\n",
       " ('minimum_nights', True, 1),\n",
       " ('maximum_nights', False, 14),\n",
       " ('minimum_minimum_nights', False, 10),\n",
       " ('maximum_minimum_nights', True, 1),\n",
       " ('minimum_maximum_nights', True, 1),\n",
       " ('maximum_maximum_nights', True, 1),\n",
       " ('minimum_nights_avg_ntm', True, 1),\n",
       " ('maximum_nights_avg_ntm', True, 1),\n",
       " ('availability_30', False, 6),\n",
       " ('availability_60', False, 19),\n",
       " ('availability_90', False, 18),\n",
       " ('availability_365', False, 13),\n",
       " ('number_of_reviews', True, 1),\n",
       " ('number_of_reviews_ltm', True, 1),\n",
       " ('number_of_reviews_l30d', True, 1),\n",
       " ('review_scores_rating', False, 5),\n",
       " ('review_scores_accuracy', False, 17),\n",
       " ('review_scores_cleanliness', False, 3),\n",
       " ('review_scores_checkin', False, 4),\n",
       " ('review_scores_communication', False, 16),\n",
       " ('review_scores_location', True, 1),\n",
       " ('review_scores_value', False, 2),\n",
       " ('calculated_host_listings_count', True, 1),\n",
       " ('calculated_host_listings_count_entire_homes', True, 1),\n",
       " ('calculated_host_listings_count_private_rooms', True, 1),\n",
       " ('calculated_host_listings_count_shared_rooms', True, 1),\n",
       " ('reviews_per_month', True, 1),\n",
       " ('host_is_superhost2', False, 15),\n",
       " ('host_identity_verified2', False, 11),\n",
       " ('has_availability2', False, 21),\n",
       " ('instant_bookable2', False, 22),\n",
       " ('dmy_Hotel room', False, 9),\n",
       " ('dmy_Private room', False, 8),\n",
       " ('dmy_Shared room', False, 7)]"
      ]
     },
     "execution_count": 20,
     "metadata": {},
     "output_type": "execute_result"
    }
   ],
   "source": [
    "list(zip(X_train.columns, rfe.support_, rfe.ranking_))"
   ]
  },
  {
   "cell_type": "markdown",
   "metadata": {},
   "source": [
    "predict price of X_test"
   ]
  },
  {
   "cell_type": "code",
   "execution_count": 24,
   "metadata": {},
   "outputs": [],
   "source": [
    "from sklearn.metrics import r2_score"
   ]
  },
  {
   "cell_type": "markdown",
   "metadata": {},
   "source": [
    "The r2_score fucntion computes the coefficient of determination, usually denoted as R². It represents the proportion of variance (of y) that has been explained by the independent variables in the model. It provides an indication of goodness of fit and therefore a measure of how well unseen samples are likely to be predicted by the model, through the proportion of explained variance."
   ]
  },
  {
   "cell_type": "code",
   "execution_count": 26,
   "metadata": {},
   "outputs": [
    {
     "name": "stdout",
     "output_type": "stream",
     "text": [
      "0.28228895316734615\n"
     ]
    }
   ],
   "source": [
    "# predict prices of X_test\n",
    "y_pred = rfe.predict(X_test)\n",
    "\n",
    "# evaluate the model on test set\n",
    "r2 = r2_score(y_test, y_pred)\n",
    "print(r2)"
   ]
  },
  {
   "cell_type": "markdown",
   "metadata": {},
   "source": [
    "This low value tells us that there is little correlation "
   ]
  },
  {
   "cell_type": "markdown",
   "metadata": {},
   "source": [
    "Perhaps we increase the numbers of features to select"
   ]
  },
  {
   "cell_type": "code",
   "execution_count": 30,
   "metadata": {},
   "outputs": [
    {
     "name": "stdout",
     "output_type": "stream",
     "text": [
      "0.2919812747325097\n"
     ]
    }
   ],
   "source": [
    "# try with another value of RFE\n",
    "lm = LinearRegression()\n",
    "lm.fit(X_train, y_train)\n",
    "\n",
    "rfe = RFE(lm, n_features_to_select=25)             \n",
    "rfe = rfe.fit(X_train, y_train)\n",
    "\n",
    "# predict prices of X_test\n",
    "y_pred = rfe.predict(X_test)\n",
    "r2 = r2_score(y_test, y_pred)\n",
    "print(r2)"
   ]
  },
  {
   "cell_type": "markdown",
   "metadata": {},
   "source": [
    "We see that there is not much of an icrease"
   ]
  },
  {
   "cell_type": "markdown",
   "metadata": {},
   "source": [
    "## Begin by implementing K-fold cross validation"
   ]
  },
  {
   "cell_type": "code",
   "execution_count": 35,
   "metadata": {},
   "outputs": [
    {
     "name": "stdout",
     "output_type": "stream",
     "text": [
      "[0.07979227 0.25628204 0.2780594  0.28280741 0.27340943 0.34995477\n",
      " 0.32158162 0.24537464 0.35150109 0.16234735]\n"
     ]
    }
   ],
   "source": [
    "#k-fold CV (using all the numerical variables)\n",
    "lm = LinearRegression()\n",
    "scores = cross_val_score(lm, X_train, y_train, scoring='r2', cv=10)\n",
    "print(scores)"
   ]
  },
  {
   "cell_type": "markdown",
   "metadata": {},
   "source": [
    "Another way of implementing the code above:"
   ]
  },
  {
   "cell_type": "code",
   "execution_count": 38,
   "metadata": {},
   "outputs": [
    {
     "name": "stdout",
     "output_type": "stream",
     "text": [
      "[0.25874207 0.30562517 0.06538084 0.2582094  0.27258172 0.30408126\n",
      " 0.32383632 0.33217462 0.20217354 0.21158081]\n"
     ]
    }
   ],
   "source": [
    "# create a KFold object with 10 splits, the random state parameter is used \n",
    "folds = KFold(n_splits = 10, shuffle = True, random_state = 100)\n",
    "scores = cross_val_score(lm, X_train, y_train, scoring='r2', cv=folds)\n",
    "print(scores)  "
   ]
  },
  {
   "cell_type": "markdown",
   "metadata": {},
   "source": [
    "Let's get the mean squared error values"
   ]
  },
  {
   "cell_type": "code",
   "execution_count": 40,
   "metadata": {},
   "outputs": [
    {
     "name": "stdout",
     "output_type": "stream",
     "text": [
      "[-0.00112609 -0.0003559  -0.00023785 -0.00020066 -0.00015633 -0.00021891\n",
      " -0.00014979 -0.00034969 -0.00021351 -0.00050451]\n"
     ]
    }
   ],
   "source": [
    "scores = cross_val_score(lm, X_train, y_train, scoring = 'neg_mean_squared_error', cv = 10)\n",
    "print(scores)"
   ]
  },
  {
   "cell_type": "markdown",
   "metadata": {},
   "source": [
    "## Grid Search CV"
   ]
  },
  {
   "cell_type": "code",
   "execution_count": 41,
   "metadata": {},
   "outputs": [
    {
     "data": {
      "text/plain": [
       "41"
      ]
     },
     "execution_count": 41,
     "metadata": {},
     "output_type": "execute_result"
    }
   ],
   "source": [
    "len(X_train.columns)"
   ]
  },
  {
   "cell_type": "code",
   "execution_count": 45,
   "metadata": {},
   "outputs": [
    {
     "name": "stdout",
     "output_type": "stream",
     "text": [
      "Fitting 10 folds for each of 41 candidates, totalling 410 fits\n"
     ]
    },
    {
     "data": {
      "text/plain": [
       "GridSearchCV(cv=KFold(n_splits=10, random_state=100, shuffle=True),\n",
       "             estimator=RFE(estimator=LinearRegression()),\n",
       "             param_grid=[{'n_features_to_select': [1, 2, 3, 4, 5, 6, 7, 8, 9,\n",
       "                                                   10, 11, 12, 13, 14, 15, 16,\n",
       "                                                   17, 18, 19, 20, 21, 22, 23,\n",
       "                                                   24, 25, 26, 27, 28, 29, 30, ...]}],\n",
       "             return_train_score=True, scoring='r2', verbose=1)"
      ]
     },
     "execution_count": 45,
     "metadata": {},
     "output_type": "execute_result"
    }
   ],
   "source": [
    "folds = KFold(n_splits = 10, shuffle = True, random_state = 100)\n",
    "\n",
    "# step-2: specify range of hyperparameters to tune\n",
    "hyper_params = [{'n_features_to_select': list(range(1, 42))}]\n",
    "\n",
    "\n",
    "# step-3: perform grid search\n",
    "# 3.1 specify model\n",
    "lm = LinearRegression()\n",
    "lm.fit(X_train, y_train)\n",
    "rfe = RFE(lm)             \n",
    "\n",
    "# 3.2 call GridSearchCV()\n",
    "model_cv = GridSearchCV(estimator = rfe, \n",
    "                        param_grid = hyper_params, \n",
    "                        scoring= 'r2', \n",
    "                        cv = folds, \n",
    "                        verbose = 1,\n",
    "                        return_train_score=True)      \n",
    "\n",
    "# fit the model\n",
    "model_cv.fit(X_train, y_train)                  "
   ]
  },
  {
   "cell_type": "markdown",
   "metadata": {},
   "source": [
    "Lets put these into a dataframe, to plot these results"
   ]
  },
  {
   "cell_type": "code",
   "execution_count": 46,
   "metadata": {},
   "outputs": [
    {
     "name": "stdout",
     "output_type": "stream",
     "text": [
      "    mean_fit_time  std_fit_time  mean_score_time  std_score_time  \\\n",
      "0        0.171937      0.005222         0.002134        0.000182   \n",
      "1        0.169807      0.003070         0.002084        0.000156   \n",
      "2        0.164095      0.001813         0.002147        0.000300   \n",
      "3        0.164523      0.002901         0.002376        0.000158   \n",
      "4        0.159124      0.001928         0.002185        0.000141   \n",
      "5        0.156920      0.002241         0.002156        0.000176   \n",
      "6        0.158637      0.003048         0.002245        0.000275   \n",
      "7        0.156459      0.003246         0.002127        0.000223   \n",
      "8        0.156286      0.002958         0.002266        0.000132   \n",
      "9        0.152641      0.001332         0.002166        0.000145   \n",
      "10       0.148670      0.001611         0.002380        0.000249   \n",
      "11       0.149589      0.002843         0.002123        0.000132   \n",
      "12       0.150336      0.016202         0.002422        0.000302   \n",
      "13       0.144247      0.002149         0.002336        0.000221   \n",
      "14       0.140281      0.001180         0.002307        0.000277   \n",
      "15       0.136071      0.001936         0.002444        0.000453   \n",
      "16       0.132619      0.000821         0.002399        0.000419   \n",
      "17       0.130993      0.001324         0.002226        0.000253   \n",
      "18       0.126491      0.002265         0.002178        0.000113   \n",
      "19       0.124052      0.002260         0.002341        0.000275   \n",
      "20       0.116668      0.001318         0.002345        0.000216   \n",
      "21       0.112452      0.001335         0.002437        0.000166   \n",
      "22       0.113810      0.007523         0.002314        0.000215   \n",
      "23       0.105475      0.002532         0.002408        0.000222   \n",
      "24       0.100164      0.001361         0.002524        0.000496   \n",
      "25       0.099726      0.003535         0.002422        0.000128   \n",
      "26       0.092801      0.001499         0.002277        0.000154   \n",
      "27       0.088509      0.001442         0.002482        0.000250   \n",
      "28       0.082597      0.001940         0.002347        0.000204   \n",
      "29       0.078033      0.001617         0.002365        0.000177   \n",
      "30       0.073199      0.001145         0.002490        0.000203   \n",
      "31       0.067403      0.001160         0.002458        0.000220   \n",
      "32       0.063707      0.003857         0.002539        0.000176   \n",
      "33       0.057017      0.001398         0.002536        0.000216   \n",
      "34       0.050231      0.001170         0.002364        0.000126   \n",
      "35       0.049814      0.014876         0.002608        0.000260   \n",
      "36       0.039165      0.001969         0.002484        0.000283   \n",
      "37       0.033261      0.002358         0.002651        0.000428   \n",
      "38       0.025076      0.000786         0.002504        0.000235   \n",
      "39       0.018060      0.000632         0.002361        0.000135   \n",
      "40       0.010668      0.000659         0.002344        0.000284   \n",
      "\n",
      "   param_n_features_to_select                        params  \\\n",
      "0                           1   {'n_features_to_select': 1}   \n",
      "1                           2   {'n_features_to_select': 2}   \n",
      "2                           3   {'n_features_to_select': 3}   \n",
      "3                           4   {'n_features_to_select': 4}   \n",
      "4                           5   {'n_features_to_select': 5}   \n",
      "5                           6   {'n_features_to_select': 6}   \n",
      "6                           7   {'n_features_to_select': 7}   \n",
      "7                           8   {'n_features_to_select': 8}   \n",
      "8                           9   {'n_features_to_select': 9}   \n",
      "9                          10  {'n_features_to_select': 10}   \n",
      "10                         11  {'n_features_to_select': 11}   \n",
      "11                         12  {'n_features_to_select': 12}   \n",
      "12                         13  {'n_features_to_select': 13}   \n",
      "13                         14  {'n_features_to_select': 14}   \n",
      "14                         15  {'n_features_to_select': 15}   \n",
      "15                         16  {'n_features_to_select': 16}   \n",
      "16                         17  {'n_features_to_select': 17}   \n",
      "17                         18  {'n_features_to_select': 18}   \n",
      "18                         19  {'n_features_to_select': 19}   \n",
      "19                         20  {'n_features_to_select': 20}   \n",
      "20                         21  {'n_features_to_select': 21}   \n",
      "21                         22  {'n_features_to_select': 22}   \n",
      "22                         23  {'n_features_to_select': 23}   \n",
      "23                         24  {'n_features_to_select': 24}   \n",
      "24                         25  {'n_features_to_select': 25}   \n",
      "25                         26  {'n_features_to_select': 26}   \n",
      "26                         27  {'n_features_to_select': 27}   \n",
      "27                         28  {'n_features_to_select': 28}   \n",
      "28                         29  {'n_features_to_select': 29}   \n",
      "29                         30  {'n_features_to_select': 30}   \n",
      "30                         31  {'n_features_to_select': 31}   \n",
      "31                         32  {'n_features_to_select': 32}   \n",
      "32                         33  {'n_features_to_select': 33}   \n",
      "33                         34  {'n_features_to_select': 34}   \n",
      "34                         35  {'n_features_to_select': 35}   \n",
      "35                         36  {'n_features_to_select': 36}   \n",
      "36                         37  {'n_features_to_select': 37}   \n",
      "37                         38  {'n_features_to_select': 38}   \n",
      "38                         39  {'n_features_to_select': 39}   \n",
      "39                         40  {'n_features_to_select': 40}   \n",
      "40                         41  {'n_features_to_select': 41}   \n",
      "\n",
      "    split0_test_score  split1_test_score  split2_test_score  \\\n",
      "0           -0.001166           0.002739          -0.001710   \n",
      "1           -0.000469           0.005065          -0.001490   \n",
      "2            0.006300           0.005019           0.001513   \n",
      "3            0.006581           0.208478           0.001155   \n",
      "4            0.006515           0.222901           0.001014   \n",
      "5            0.189566           0.225218           0.066818   \n",
      "6            0.190447           0.226094           0.066479   \n",
      "7            0.216257           0.229870           0.066767   \n",
      "8            0.216257           0.229912           0.071168   \n",
      "9            0.223378           0.247915           0.070145   \n",
      "10           0.222394           0.248018           0.069470   \n",
      "11           0.224295           0.251378           0.065541   \n",
      "12           0.234117           0.252746           0.067729   \n",
      "13           0.236466           0.265688           0.068506   \n",
      "14           0.239522           0.265688           0.069398   \n",
      "15           0.240624           0.269680           0.069472   \n",
      "16           0.240682           0.271854           0.069712   \n",
      "17           0.243255           0.271707           0.069538   \n",
      "18           0.243778           0.272343           0.068714   \n",
      "19           0.243741           0.272067           0.069178   \n",
      "20           0.245265           0.272380           0.069883   \n",
      "21           0.246401           0.272239           0.069532   \n",
      "22           0.246738           0.274197           0.068744   \n",
      "23           0.257390           0.275600           0.068950   \n",
      "24           0.257923           0.287141           0.068695   \n",
      "25           0.258878           0.287529           0.068582   \n",
      "26           0.258900           0.302433           0.067755   \n",
      "27           0.259942           0.303233           0.068004   \n",
      "28           0.260494           0.303174           0.067876   \n",
      "29           0.259747           0.301298           0.065163   \n",
      "30           0.258383           0.304408           0.065299   \n",
      "31           0.257994           0.304268           0.065343   \n",
      "32           0.257960           0.304230           0.065183   \n",
      "33           0.255953           0.304248           0.065141   \n",
      "34           0.257252           0.304481           0.065178   \n",
      "35           0.258881           0.304335           0.065410   \n",
      "36           0.258944           0.304019           0.065408   \n",
      "37           0.258970           0.304080           0.065416   \n",
      "38           0.258781           0.305772           0.065432   \n",
      "39           0.258742           0.305700           0.065406   \n",
      "40           0.258742           0.305625           0.065381   \n",
      "\n",
      "    split3_test_score  ...  split2_train_score  split3_train_score  \\\n",
      "0           -0.001796  ...            0.007497            0.000153   \n",
      "1            0.000544  ...            0.007479            0.000819   \n",
      "2           -0.001498  ...            0.015192            0.001721   \n",
      "3            0.004649  ...            0.015868            0.005811   \n",
      "4            0.004777  ...            0.015952            0.005812   \n",
      "5            0.239570  ...            0.206733            0.163125   \n",
      "6            0.242001  ...            0.207204            0.168173   \n",
      "7            0.230426  ...            0.207162            0.183064   \n",
      "8            0.225220  ...            0.223072            0.185260   \n",
      "9            0.225159  ...            0.225441            0.185717   \n",
      "10           0.225159  ...            0.225983            0.185717   \n",
      "11           0.230490  ...            0.228741            0.187780   \n",
      "12           0.230758  ...            0.237571            0.188522   \n",
      "13           0.229689  ...            0.240717            0.196206   \n",
      "14           0.233601  ...            0.242242            0.197964   \n",
      "15           0.235607  ...            0.244117            0.199071   \n",
      "16           0.236588  ...            0.244766            0.199960   \n",
      "17           0.237137  ...            0.245064            0.200090   \n",
      "18           0.236855  ...            0.245494            0.200162   \n",
      "19           0.240995  ...            0.245179            0.201401   \n",
      "20           0.241575  ...            0.246918            0.202425   \n",
      "21           0.239594  ...            0.248139            0.202112   \n",
      "22           0.245413  ...            0.249257            0.202945   \n",
      "23           0.246529  ...            0.249704            0.203273   \n",
      "24           0.251818  ...            0.257206            0.208923   \n",
      "25           0.251914  ...            0.257477            0.209113   \n",
      "26           0.257878  ...            0.267504            0.216735   \n",
      "27           0.258472  ...            0.267676            0.216889   \n",
      "28           0.259245  ...            0.267701            0.217701   \n",
      "29           0.259244  ...            0.269486            0.218049   \n",
      "30           0.259026  ...            0.269826            0.218370   \n",
      "31           0.258722  ...            0.270216            0.218399   \n",
      "32           0.258642  ...            0.270674            0.218414   \n",
      "33           0.258477  ...            0.270678            0.218551   \n",
      "34           0.258542  ...            0.270689            0.218868   \n",
      "35           0.258546  ...            0.270734            0.218871   \n",
      "36           0.258611  ...            0.270734            0.218877   \n",
      "37           0.258613  ...            0.270735            0.218877   \n",
      "38           0.258212  ...            0.270735            0.218892   \n",
      "39           0.258211  ...            0.270737            0.218892   \n",
      "40           0.258209  ...            0.270742            0.218892   \n",
      "\n",
      "    split4_train_score  split5_train_score  split6_train_score  \\\n",
      "0             0.005403            0.005501            0.004531   \n",
      "1             0.005392            0.005485            0.005193   \n",
      "2             0.007341            0.007386            0.005194   \n",
      "3             0.007886            0.007789            0.162009   \n",
      "4             0.015067            0.014739            0.167442   \n",
      "5             0.015143            0.014888            0.167684   \n",
      "6             0.015211            0.014919            0.167721   \n",
      "7             0.167974            0.169702            0.180700   \n",
      "8             0.178899            0.182408            0.182392   \n",
      "9             0.181210            0.184068            0.182810   \n",
      "10            0.181997            0.184419            0.185547   \n",
      "11            0.181858            0.184441            0.185924   \n",
      "12            0.184830            0.187684            0.185924   \n",
      "13            0.186886            0.189686            0.192996   \n",
      "14            0.193854            0.196093            0.194866   \n",
      "15            0.194579            0.197561            0.196194   \n",
      "16            0.195519            0.198176            0.196850   \n",
      "17            0.195860            0.198315            0.197021   \n",
      "18            0.196220            0.198442            0.197251   \n",
      "19            0.196248            0.198638            0.197288   \n",
      "20            0.197706            0.199859            0.198699   \n",
      "21            0.198307            0.200300            0.199744   \n",
      "22            0.198772            0.200959            0.200192   \n",
      "23            0.204189            0.201416            0.200677   \n",
      "24            0.204382            0.201428            0.200971   \n",
      "25            0.212249            0.207323            0.207209   \n",
      "26            0.212594            0.207379            0.207404   \n",
      "27            0.212747            0.214602            0.214978   \n",
      "28            0.212804            0.214908            0.215011   \n",
      "29            0.213188            0.215386            0.215302   \n",
      "30            0.213926            0.216075            0.216050   \n",
      "31            0.214377            0.216094            0.216355   \n",
      "32            0.214386            0.216236            0.216759   \n",
      "33            0.214524            0.216494            0.216858   \n",
      "34            0.214544            0.216864            0.216870   \n",
      "35            0.214552            0.216927            0.216873   \n",
      "36            0.214613            0.216944            0.216873   \n",
      "37            0.214613            0.216946            0.216874   \n",
      "38            0.214635            0.216946            0.216874   \n",
      "39            0.214635            0.216954            0.216874   \n",
      "40            0.214636            0.216954            0.216874   \n",
      "\n",
      "    split7_train_score  split8_train_score  split9_train_score  \\\n",
      "0             0.005485            0.000457            0.004515   \n",
      "1             0.005470            0.001615            0.005284   \n",
      "2             0.011649            0.006356            0.005284   \n",
      "3             0.012078            0.006735            0.170318   \n",
      "4             0.012084            0.006757            0.175833   \n",
      "5             0.167919            0.172120            0.176233   \n",
      "6             0.168403            0.176252            0.176270   \n",
      "7             0.168545            0.189354            0.189842   \n",
      "8             0.181328            0.190943            0.191593   \n",
      "9             0.183092            0.191400            0.192120   \n",
      "10            0.183325            0.191408            0.192120   \n",
      "11            0.183303            0.194510            0.193610   \n",
      "12            0.186360            0.194510            0.200631   \n",
      "13            0.188048            0.196178            0.203088   \n",
      "14            0.194643            0.203278            0.204530   \n",
      "15            0.196453            0.204767            0.205975   \n",
      "16            0.196709            0.206123            0.206114   \n",
      "17            0.196832            0.206351            0.206244   \n",
      "18            0.198194            0.206418            0.206474   \n",
      "19            0.198360            0.207731            0.207913   \n",
      "20            0.199347            0.208662            0.208870   \n",
      "21            0.199633            0.209086            0.209461   \n",
      "22            0.200116            0.209625            0.209475   \n",
      "23            0.200174            0.210100            0.209820   \n",
      "24            0.200569            0.210114            0.214432   \n",
      "25            0.200661            0.215803            0.214606   \n",
      "26            0.206523            0.215964            0.221368   \n",
      "27            0.206781            0.222987            0.221532   \n",
      "28            0.213197            0.222989            0.221570   \n",
      "29            0.213585            0.223691            0.222216   \n",
      "30            0.214490            0.224117            0.222363   \n",
      "31            0.214787            0.224276            0.222660   \n",
      "32            0.214934            0.224285            0.222977   \n",
      "33            0.214943            0.224302            0.222980   \n",
      "34            0.215269            0.224363            0.223012   \n",
      "35            0.215273            0.224618            0.223022   \n",
      "36            0.215279            0.224621            0.223089   \n",
      "37            0.215282            0.224621            0.223135   \n",
      "38            0.215282            0.224633            0.223136   \n",
      "39            0.215287            0.224634            0.223146   \n",
      "40            0.215289            0.224635            0.223146   \n",
      "\n",
      "    mean_train_score  std_train_score  \n",
      "0           0.003856         0.002470  \n",
      "1           0.004307         0.002163  \n",
      "2           0.007084         0.003589  \n",
      "3           0.055885         0.071927  \n",
      "4           0.059665         0.074629  \n",
      "5           0.142901         0.064987  \n",
      "6           0.144598         0.065677  \n",
      "7           0.182211         0.011325  \n",
      "8           0.188167         0.012256  \n",
      "9           0.189660         0.012408  \n",
      "10          0.190373         0.012317  \n",
      "11          0.191787         0.012950  \n",
      "12          0.195177         0.014998  \n",
      "13          0.198660         0.014761  \n",
      "14          0.202042         0.013841  \n",
      "15          0.203345         0.014041  \n",
      "16          0.203965         0.014060  \n",
      "17          0.204203         0.014073  \n",
      "18          0.204485         0.014097  \n",
      "19          0.204941         0.013980  \n",
      "20          0.206190         0.014094  \n",
      "21          0.206775         0.014279  \n",
      "22          0.207330         0.014439  \n",
      "23          0.208692         0.014112  \n",
      "24          0.211086         0.015935  \n",
      "25          0.214583         0.015006  \n",
      "26          0.218373         0.016987  \n",
      "27          0.220690         0.016243  \n",
      "28          0.221474         0.015765  \n",
      "29          0.222022         0.016191  \n",
      "30          0.222621         0.016068  \n",
      "31          0.222855         0.016117  \n",
      "32          0.223009         0.016220  \n",
      "33          0.223099         0.016187  \n",
      "34          0.223264         0.016125  \n",
      "35          0.223318         0.016132  \n",
      "36          0.223350         0.016119  \n",
      "37          0.223356         0.016119  \n",
      "38          0.223379         0.016108  \n",
      "39          0.223382         0.016107  \n",
      "40          0.223383         0.016109  \n",
      "\n",
      "[41 rows x 31 columns]\n"
     ]
    }
   ],
   "source": [
    "# cv results\n",
    "cv_results = pd.DataFrame(model_cv.cv_results_)\n",
    "print(cv_results)"
   ]
  },
  {
   "cell_type": "code",
   "execution_count": 47,
   "metadata": {},
   "outputs": [
    {
     "data": {
      "text/plain": [
       "<matplotlib.legend.Legend at 0x7f7f6ab774c0>"
      ]
     },
     "execution_count": 47,
     "metadata": {},
     "output_type": "execute_result"
    },
    {
     "data": {
      "image/png": "[encoded data removed]",
      "text/plain": [
       "<Figure size 1152x432 with 1 Axes>"
      ]
     },
     "metadata": {},
     "output_type": "display_data"
    }
   ],
   "source": [
    "# plotting cv results\n",
    "plt.figure(figsize=(16,6))\n",
    "\n",
    "plt.plot(cv_results[\"param_n_features_to_select\"], cv_results[\"mean_test_score\"])\n",
    "plt.plot(cv_results[\"param_n_features_to_select\"], cv_results[\"mean_train_score\"])\n",
    "plt.xlabel('number of features')\n",
    "plt.ylabel('r-squared')\n",
    "plt.title(\"Optimal Number of Features\")\n",
    "plt.legend(['test score', 'train score'], loc='upper left')"
   ]
  },
  {
   "cell_type": "markdown",
   "metadata": {},
   "source": [
    "We see that after 26, there is a stablization in the r-squared."
   ]
  },
  {
   "cell_type": "code",
   "execution_count": 48,
   "metadata": {},
   "outputs": [
    {
     "name": "stdout",
     "output_type": "stream",
     "text": [
      "0.298596279259179\n"
     ]
    }
   ],
   "source": [
    "# final model\n",
    "n_features_optimal = 26\n",
    "\n",
    "lm = LinearRegression()\n",
    "lm.fit(X_train, y_train)\n",
    "\n",
    "rfe = RFE(lm, n_features_to_select = n_features_optimal)             \n",
    "rfe = rfe.fit(X_train, y_train)\n",
    "\n",
    "# predict prices of X_test\n",
    "y_pred = lm.predict(X_test)\n",
    "r2 = r2_score(y_test, y_pred)\n",
    "print(r2)"
   ]
  },
  {
   "cell_type": "code",
   "execution_count": null,
   "metadata": {},
   "outputs": [],
   "source": []
  }
 ],
 "metadata": {
  "interpreter": {
   "hash": "342e59eb355b6a5f2d054a611d06f48d61ca4a0061af2bf3e4ea89850dd11631"
  },
  "kernelspec": {
   "display_name": "Python 3.9.1 64-bit ('sfds': conda)",
   "language": "python",
   "name": "python3"
  },
  "language_info": {
   "codemirror_mode": {
    "name": "ipython",
    "version": 3
   },
   "file_extension": ".py",
   "mimetype": "text/x-python",
   "name": "python",
   "nbconvert_exporter": "python",
   "pygments_lexer": "ipython3",
   "version": "3.9.1"
  },
  "orig_nbformat": 4
 },
 "nbformat": 4,
 "nbformat_minor": 2
}
