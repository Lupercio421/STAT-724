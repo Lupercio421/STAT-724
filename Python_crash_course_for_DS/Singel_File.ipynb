{
 "cells": [
  {
   "cell_type": "markdown",
   "id": "060fad79",
   "metadata": {},
   "source": [
    "## Variables and Data Types"
   ]
  },
  {
   "cell_type": "code",
   "execution_count": 1,
   "id": "cc3000da",
   "metadata": {},
   "outputs": [],
   "source": [
    "a = 10"
   ]
  },
  {
   "cell_type": "code",
   "execution_count": 2,
   "id": "faa47bcf",
   "metadata": {},
   "outputs": [
    {
     "data": {
      "text/plain": [
       "int"
      ]
     },
     "execution_count": 2,
     "metadata": {},
     "output_type": "execute_result"
    }
   ],
   "source": [
    "type(a)"
   ]
  },
  {
   "cell_type": "markdown",
   "id": "e5eca022",
   "metadata": {},
   "source": [
    "## Strings"
   ]
  },
  {
   "cell_type": "code",
   "execution_count": 3,
   "id": "37faf9ba",
   "metadata": {},
   "outputs": [],
   "source": [
    "str1 = \"Howdie\""
   ]
  },
  {
   "cell_type": "code",
   "execution_count": 4,
   "id": "da6498b5",
   "metadata": {},
   "outputs": [
    {
     "data": {
      "text/plain": [
       "6"
      ]
     },
     "execution_count": 4,
     "metadata": {},
     "output_type": "execute_result"
    }
   ],
   "source": [
    "len(str1)"
   ]
  },
  {
   "cell_type": "code",
   "execution_count": 5,
   "id": "cfcb37e5",
   "metadata": {},
   "outputs": [
    {
     "name": "stdout",
     "output_type": "stream",
     "text": [
      "HOWDIE\n"
     ]
    }
   ],
   "source": [
    "print(str1.upper())"
   ]
  },
  {
   "cell_type": "code",
   "execution_count": 6,
   "id": "57500ee3",
   "metadata": {},
   "outputs": [],
   "source": [
    "str1 = \"My name is Idan\""
   ]
  },
  {
   "cell_type": "code",
   "execution_count": 7,
   "id": "f09b31e5",
   "metadata": {},
   "outputs": [
    {
     "name": "stdout",
     "output_type": "stream",
     "text": [
      "True\n"
     ]
    }
   ],
   "source": [
    "flag1 = \"Idan\" in str1\n",
    "print(flag1)"
   ]
  },
  {
   "cell_type": "code",
   "execution_count": 8,
   "id": "cbf39086",
   "metadata": {},
   "outputs": [],
   "source": [
    "a = \"my name is Danny Loop\""
   ]
  },
  {
   "cell_type": "code",
   "execution_count": 11,
   "id": "97887fa2",
   "metadata": {},
   "outputs": [],
   "source": [
    "list1 = a.split(\" \")"
   ]
  },
  {
   "cell_type": "code",
   "execution_count": 12,
   "id": "1d71c5d5",
   "metadata": {},
   "outputs": [
    {
     "name": "stdout",
     "output_type": "stream",
     "text": [
      "['my', 'name', 'is', 'Danny', 'Loop']\n"
     ]
    }
   ],
   "source": [
    "print(list1)"
   ]
  },
  {
   "cell_type": "code",
   "execution_count": 13,
   "id": "62563e6e",
   "metadata": {},
   "outputs": [],
   "source": [
    "name, person_ID = \"Danny\", \"123456\""
   ]
  },
  {
   "cell_type": "code",
   "execution_count": 14,
   "id": "e10c5b41",
   "metadata": {},
   "outputs": [
    {
     "name": "stdout",
     "output_type": "stream",
     "text": [
      "Hi, Danny. Your ID number is 123456\n"
     ]
    }
   ],
   "source": [
    "str1 = f\"Hi, {name}. Your ID number is {person_ID}\"\n",
    "print(str1)"
   ]
  },
  {
   "cell_type": "markdown",
   "id": "c63d1ecd",
   "metadata": {},
   "source": [
    "## Lists"
   ]
  },
  {
   "cell_type": "code",
   "execution_count": 15,
   "id": "e4bd55eb",
   "metadata": {},
   "outputs": [],
   "source": [
    "list1 = []\n",
    "list1.append(\"1\")"
   ]
  },
  {
   "cell_type": "code",
   "execution_count": null,
   "id": "7159403b",
   "metadata": {},
   "outputs": [],
   "source": [
    " "
   ]
  },
  {
   "cell_type": "markdown",
   "id": "db5c1666",
   "metadata": {},
   "source": [
    "## If and For Loop"
   ]
  },
  {
   "cell_type": "code",
   "execution_count": 16,
   "id": "c4607755",
   "metadata": {},
   "outputs": [
    {
     "name": "stdout",
     "output_type": "stream",
     "text": [
      "10 is greater than\n",
      "5\n"
     ]
    }
   ],
   "source": [
    "a = 10\n",
    "\n",
    "if a >5:\n",
    "    print(f\"{a} is greater than\")\n",
    "    print(\"5\")"
   ]
  },
  {
   "cell_type": "markdown",
   "id": "56af0438",
   "metadata": {},
   "source": [
    "## Functions "
   ]
  },
  {
   "cell_type": "code",
   "execution_count": 18,
   "id": "adb3e491",
   "metadata": {},
   "outputs": [],
   "source": [
    "def display_name (person_ID):\n",
    "    \"\"\"This function is presenting a name based on an ID number\"\"\"\n",
    "    if (person_ID == '123'):\n",
    "        print(\"Welcome Danny!\")\n",
    "    elif (person_ID == \"456\"):\n",
    "        print(\"Welcome, David!\")"
   ]
  },
  {
   "cell_type": "code",
   "execution_count": 20,
   "id": "33983b15",
   "metadata": {},
   "outputs": [
    {
     "name": "stdout",
     "output_type": "stream",
     "text": [
      "Welcome, David!\n"
     ]
    }
   ],
   "source": [
    "display_name(\"456\")"
   ]
  },
  {
   "cell_type": "code",
   "execution_count": 21,
   "id": "60c9f0ae",
   "metadata": {},
   "outputs": [],
   "source": [
    "def display_name (person_ID):\n",
    "    \"\"\"This function is presenting a name based on an ID number\"\"\"\n",
    "    if (person_ID == '123'):\n",
    "        print(\"Welcome Danny!\")\n",
    "    elif (person_ID == \"456\"):\n",
    "        print(\"Welcome, David!\")\n",
    "    return name"
   ]
  },
  {
   "cell_type": "markdown",
   "id": "26d2943b",
   "metadata": {},
   "source": [
    "## Dictionaries"
   ]
  },
  {
   "cell_type": "code",
   "execution_count": 22,
   "id": "51dc8e31",
   "metadata": {},
   "outputs": [
    {
     "data": {
      "text/plain": [
       "dict"
      ]
     },
     "execution_count": 22,
     "metadata": {},
     "output_type": "execute_result"
    }
   ],
   "source": [
    "my_dictionary = {}\n",
    "type(my_dictionary)"
   ]
  },
  {
   "cell_type": "markdown",
   "id": "c480377a",
   "metadata": {},
   "source": [
    "## Objects, Classes, Attributes"
   ]
  },
  {
   "cell_type": "code",
   "execution_count": 23,
   "id": "55e36cee",
   "metadata": {},
   "outputs": [],
   "source": [
    "class Car:\n",
    "    # init method or constructor\n",
    "    def __init__(self, color, model):\n",
    "        self.color = color\n",
    "        self.model = model\n",
    "        self.age = 1"
   ]
  },
  {
   "cell_type": "code",
   "execution_count": 24,
   "id": "16d3fe29",
   "metadata": {},
   "outputs": [
    {
     "name": "stdout",
     "output_type": "stream",
     "text": [
      "White\n"
     ]
    }
   ],
   "source": [
    "car1 = Car(\"White\", \"Mazda\")\n",
    "print(car1.color)"
   ]
  },
  {
   "cell_type": "code",
   "execution_count": 25,
   "id": "4d4c5a2f",
   "metadata": {},
   "outputs": [],
   "source": [
    "class Car:\n",
    "    # init method or constructor\n",
    "    def __init__(self, color, model):\n",
    "        self.color = color\n",
    "        self.model = model\n",
    "        self.age = 1\n",
    "        \n",
    "    def change_color(self, new_color):\n",
    "        self.color = new_color\n",
    "        \n",
    "    def increase_age(self):\n",
    "        self.age = self.age + 1"
   ]
  },
  {
   "cell_type": "code",
   "execution_count": 27,
   "id": "dd1a82c7",
   "metadata": {},
   "outputs": [],
   "source": [
    "car3 = Car(\"Green\", \"Honda\")"
   ]
  },
  {
   "cell_type": "code",
   "execution_count": null,
   "id": "efc94fb0",
   "metadata": {},
   "outputs": [],
   "source": []
  }
 ],
 "metadata": {
  "kernelspec": {
   "display_name": "Python 3 (ipykernel)",
   "language": "python",
   "name": "python3"
  },
  "language_info": {
   "codemirror_mode": {
    "name": "ipython",
    "version": 3
   },
   "file_extension": ".py",
   "mimetype": "text/x-python",
   "name": "python",
   "nbconvert_exporter": "python",
   "pygments_lexer": "ipython3",
   "version": "3.8.5"
  }
 },
 "nbformat": 4,
 "nbformat_minor": 5
}
