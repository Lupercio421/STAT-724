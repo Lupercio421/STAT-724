{
 "cells": [
  {
   "cell_type": "markdown",
   "id": "f39468fc",
   "metadata": {},
   "source": [
    "## Variables and Data Types"
   ]
  },
  {
   "cell_type": "code",
   "execution_count": 1,
   "id": "20159034",
   "metadata": {},
   "outputs": [],
   "source": [
    "a = 10"
   ]
  },
  {
   "cell_type": "code",
   "execution_count": 2,
   "id": "41f29b13",
   "metadata": {},
   "outputs": [
    {
     "data": {
      "text/plain": [
       "int"
      ]
     },
     "execution_count": 2,
     "metadata": {},
     "output_type": "execute_result"
    }
   ],
   "source": [
    "type(a)"
   ]
  },
  {
   "cell_type": "markdown",
   "id": "c19f5c68",
   "metadata": {},
   "source": [
    "## Strings"
   ]
  },
  {
   "cell_type": "code",
   "execution_count": 3,
   "id": "f41ee93c",
   "metadata": {},
   "outputs": [],
   "source": [
    "str1 = \"Howdie\""
   ]
  },
  {
   "cell_type": "code",
   "execution_count": 4,
   "id": "f1014400",
   "metadata": {},
   "outputs": [
    {
     "data": {
      "text/plain": [
       "6"
      ]
     },
     "execution_count": 4,
     "metadata": {},
     "output_type": "execute_result"
    }
   ],
   "source": [
    "len(str1)"
   ]
  },
  {
   "cell_type": "code",
   "execution_count": 5,
   "id": "c2f28785",
   "metadata": {},
   "outputs": [
    {
     "name": "stdout",
     "output_type": "stream",
     "text": [
      "HOWDIE\n"
     ]
    }
   ],
   "source": [
    "print(str1.upper())"
   ]
  },
  {
   "cell_type": "code",
   "execution_count": 6,
   "id": "11354293",
   "metadata": {},
   "outputs": [],
   "source": [
    "str1 = \"My name is Idan\""
   ]
  },
  {
   "cell_type": "code",
   "execution_count": 7,
   "id": "05e0e526",
   "metadata": {},
   "outputs": [
    {
     "name": "stdout",
     "output_type": "stream",
     "text": [
      "True\n"
     ]
    }
   ],
   "source": [
    "flag1 = \"Idan\" in str1\n",
    "print(flag1)"
   ]
  },
  {
   "cell_type": "code",
   "execution_count": 8,
   "id": "5952c9de",
   "metadata": {},
   "outputs": [],
   "source": [
    "a = \"my name is Danny Loop\""
   ]
  },
  {
   "cell_type": "code",
   "execution_count": 11,
   "id": "c954bb97",
   "metadata": {},
   "outputs": [],
   "source": [
    "list1 = a.split(\" \")"
   ]
  },
  {
   "cell_type": "code",
   "execution_count": 12,
   "id": "76d67da5",
   "metadata": {},
   "outputs": [
    {
     "name": "stdout",
     "output_type": "stream",
     "text": [
      "['my', 'name', 'is', 'Danny', 'Loop']\n"
     ]
    }
   ],
   "source": [
    "print(list1)"
   ]
  },
  {
   "cell_type": "code",
   "execution_count": 13,
   "id": "09710bb4",
   "metadata": {},
   "outputs": [],
   "source": [
    "name, person_ID = \"Danny\", \"123456\""
   ]
  },
  {
   "cell_type": "code",
   "execution_count": null,
   "id": "ec9a0c52",
   "metadata": {},
   "outputs": [],
   "source": []
  }
 ],
 "metadata": {
  "kernelspec": {
   "display_name": "Python 3 (ipykernel)",
   "language": "python",
   "name": "python3"
  },
  "language_info": {
   "codemirror_mode": {
    "name": "ipython",
    "version": 3
   },
   "file_extension": ".py",
   "mimetype": "text/x-python",
   "name": "python",
   "nbconvert_exporter": "python",
   "pygments_lexer": "ipython3",
   "version": "3.8.5"
  }
 },
 "nbformat": 4,
 "nbformat_minor": 5
}
